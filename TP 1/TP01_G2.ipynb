{
  "cells": [
    {
      "cell_type": "markdown",
      "metadata": {
        "id": "RSLTWM4pIqFy"
      },
      "source": [
        "[![Open In Colab](https://colab.research.google.com/assets/colab-badge.svg)](https://colab.research.google.com/github/aprendizaje-automatico-dc-uba-ar/material/blob/main/tp/01_aprendizaje_supervisado/tp01-enunciado.ipynb)\n",
        "\n",
        "# Trabajo Práctico -  Aprendizaje supervisado\n",
        "### Clasificación de expresiones genómicas\n",
        "\n",
        "<span style=\"color: red;\">**Fecha de entrega: Jueves 01 de mayo del 2025 - hasta las 17:00hs.**\n",
        "\n",
        "<span style=\"color: red;\">**Fecha de entrega intermedia: Jueves 17 de Abril del 2025 - hasta las 17:00hs.**\n",
        "</span>\n",
        "\n",
        "## Introducción\n",
        "\n",
        "En el mundo actual, distintas disciplinas científicas empiezan, cada vez más, a interactuar con el fin de potenciar sus descubrimientos. En este caso dos grupos de investigación de [CONICET](https://www.conicet.gov.ar/) se embarcan en la combinación entre biología y informática para abordar la detección temprana y el pronóstico preciso de enfermedades como el cáncer. Este proyecto combina las tecnologías de secuenciación de nueva generación ([_NGS_](https://es.wikipedia.org/wiki/Secuenciaci%C3%B3n_paralela_masiva), por sus siglas en inglés) con la potencia de la inteligencia artificial. El enfoque se centra en un dataset único que abarca mediciones de [_ARN_](https://es.wikipedia.org/wiki/ARN_mensajero) de 200 [_genes_](https://es.wikipedia.org/wiki/Gen), recopiladas de pacientes con lesiones [_pre-tumorales_](https://en.wikipedia.org/wiki/Hyperplasia). Este conjunto de datos se convierte en una valiosa fuente de información para entender cómo las células en estado de hiperplasia pueden evolucionar hacia [_tumores malignos_](https://en.wikipedia.org/wiki/Neoplasm), una transformación que ha desconcertado a la ciencia durante décadas.\n",
        "\n",
        "La hiperplasia, es un fenómeno en el que las células experimentan un crecimiento anormal y descontrolado, es un punto de partida crucial en nuestro análisis. ¿Cómo y por qué algunas células que experimentan hiperplasia se convierten en células cancerosas, mientras que otras no? Esta pregunta es el corazón de nuestra investigación. Para responderla se realizo un estudio donde se obtuvieron muestras de distintos tipos de hiperplasias de pacientes con antecedentes familiares y lesiones pre tumorales. Este grupo de pacientes, o cohorte, fue monitoreado periodicamente durante los siguientes 5 años buscando indicios de neoplasias o nuevas hiperplasias más agresivas. Con las muestras obtenidas en este estudio se realizo un [_biobanco_](https://en.wikipedia.org/wiki/Biobank) con las mediciones que habitualmente se hacen en la construccion de este tipo de [_plataformas_](https://xena.ucsc.edu/). Cada muestra fue etiquetada como **_buen pronostico_**, si no hubo indicios de nuevas hiperplasias o similares; contrariamente se etiquetaron como de **_mal pronostico_** si hubo una recaida.\n",
        "\n",
        "Este trabajo se concentra en un panel de genes, especificamente en la expresion de 200 genes que se creen tienen un papel crucial en la transformacion tumoral y su etiqueta correspondiente.\n",
        "\n",
        "En concreto:\n",
        "\n",
        "Tendrán un archivo `.csv` en donde se almacenan:\n",
        "  - una matriz de datos `X` de $500$ filas en donde cada fila $x^{(i)}$ representa un vector de $200$ características de cada instancia. Es decir, $\\textbf{x}^{(i)} = x_1^{(i)}, \\dots, x_{200}^{(i)}$ con $i$ entre $1$ y $500$.\n",
        "  - una columna llamada `target` que representa un vector de $500$ posiciones con dos posibles valores: `True` (ó 1, es decir, tiene buen pronostico) y `False` (ó 0, tiene mal pronostico).\n",
        "\n",
        "Los datos están en esta [carpeta](https://github.com/aprendizaje-automatico-dc-uba-ar/material/tree/main/tp/01_aprendizaje_supervisado/datos).\n",
        "\n",
        "Por otra parte, tendrán disponibles un conjunto de instancias sin etiquetas, que utilizaremos para comprobar la calidad de sus resultados (ver Ejercicio 5).\n",
        "\n",
        "**Recomendamos fuertemente leer primero todo el enunciado del trabajo antes de empezar a trabajar sobre el problema propuesto.**\n",
        "\n",
        "---\n",
        "\n",
        "### Sobre el informe\n",
        "\n",
        "Para este trabajo deberán entregar, además del código de las pruebas y experimentos que realicen, un informe en el que deberan seleccionar, para cada apartado, sus resultados acompañado de un texto que explique, reflexione, justifique y conluya dicho contenido.\n",
        "\n",
        "Cada ejercicio indica el largo máximo del texto que se puede incluir. Los gráficos no están contados en dicho espacio.\n",
        "Cada gráfico incluido debe contar con:\n",
        "  \n",
        "  - nombres de los ejes,\n",
        "  - título,\n",
        "  - leyenda autocontenida,\n",
        "  - debe ser referenciado desde el texto, ya que su inclusión se da porque aporta a la discusión del trabajo.\n",
        "\n",
        "**El informe no puede superar un máximo de 8 carillas (contando gráficos) o 4 hojas más carátula.** Tamaño de la letra: estandár de latex (10pt). No se corregirán trabajos que no cumplan con esta consigna.\n",
        "\n",
        "---"
      ]
    },
    {
      "cell_type": "code",
      "source": [
        "import pandas as pd\n",
        "import numpy as np\n",
        "from sklearn.svm import SVC\n",
        "from sklearn.neighbors import KNeighborsClassifier\n",
        "from sklearn.discriminant_analysis import LinearDiscriminantAnalysis\n",
        "from prettytable import PrettyTable\n",
        "from sklearn.naive_bayes import GaussianNB, CategoricalNB, BernoulliNB\n",
        "from sklearn.tree import DecisionTreeClassifier\n",
        "from sklearn.metrics import accuracy_score, classification_report, confusion_matrix, roc_auc_score, average_precision_score, precision_recall_curve, auc\n",
        "from sklearn.model_selection import StratifiedKFold, ParameterGrid, RandomizedSearchCV, LearningCurveDisplay, ShuffleSplit\n",
        "import matplotlib.pyplot as plt\n",
        "from sklearn.ensemble import RandomForestClassifier\n",
        "import seaborn as sns\n",
        "\n",
        "np.random.seed(42)"
      ],
      "metadata": {
        "id": "kGl5e_HMM2Oc"
      },
      "execution_count": 1,
      "outputs": []
    },
    {
      "cell_type": "markdown",
      "metadata": {
        "id": "skdO3fKOIqF1"
      },
      "source": [
        "## Ejercicio 1\n",
        "\n",
        "### Separación de datos\n",
        "\n",
        "Contarán con una cantidad limitada de datos, por lo cual es importante tomar una buena decisión en el momento de empezar a utilizarlos.\n",
        "\n",
        "Evaluar y justificar cómo separarán sus datos para desarrollo y para evaluación. ¿Qué consideraciones tuvieron en cuenta para realizar esta división?\n",
        "\n",
        "**Importante**: en este punto no está permitido dividir la base de datos utilizando la función `train_test_split` de sklearn. Deben decidir e implementar la separación."
      ]
    },
    {
      "cell_type": "markdown",
      "source": [
        "### Resolución\n",
        "\n",
        "Para separar los datos en sets de entrenamiento y evaluación analicemos primero las proporciones de la variable `target`, ya que si el dataset está desbalanceado será necesario hacer una divisón estratificada."
      ],
      "metadata": {
        "id": "rKJAtJFdLcRv"
      }
    },
    {
      "cell_type": "code",
      "source": [
        "df = pd.read_csv(\"data.csv\")\n",
        "\n",
        "class_counts = df['target'].value_counts(normalize=True)\n",
        "class_counts"
      ],
      "metadata": {
        "colab": {
          "base_uri": "https://localhost:8080/",
          "height": 178
        },
        "id": "BkhEyZPfMIMM",
        "outputId": "8833d040-07ba-4db2-93d2-7e870158f590"
      },
      "execution_count": 3,
      "outputs": [
        {
          "output_type": "execute_result",
          "data": {
            "text/plain": [
              "target\n",
              "0    0.698\n",
              "1    0.302\n",
              "Name: proportion, dtype: float64"
            ],
            "text/html": [
              "<div>\n",
              "<style scoped>\n",
              "    .dataframe tbody tr th:only-of-type {\n",
              "        vertical-align: middle;\n",
              "    }\n",
              "\n",
              "    .dataframe tbody tr th {\n",
              "        vertical-align: top;\n",
              "    }\n",
              "\n",
              "    .dataframe thead th {\n",
              "        text-align: right;\n",
              "    }\n",
              "</style>\n",
              "<table border=\"1\" class=\"dataframe\">\n",
              "  <thead>\n",
              "    <tr style=\"text-align: right;\">\n",
              "      <th></th>\n",
              "      <th>proportion</th>\n",
              "    </tr>\n",
              "    <tr>\n",
              "      <th>target</th>\n",
              "      <th></th>\n",
              "    </tr>\n",
              "  </thead>\n",
              "  <tbody>\n",
              "    <tr>\n",
              "      <th>0</th>\n",
              "      <td>0.698</td>\n",
              "    </tr>\n",
              "    <tr>\n",
              "      <th>1</th>\n",
              "      <td>0.302</td>\n",
              "    </tr>\n",
              "  </tbody>\n",
              "</table>\n",
              "</div><br><label><b>dtype:</b> float64</label>"
            ]
          },
          "metadata": {},
          "execution_count": 3
        }
      ]
    },
    {
      "cell_type": "markdown",
      "source": [
        "Vemos que están desbalanceados, con lo cual vamos a proceder a hacer una división del dataset que tenga en cuenta este desbalance y así nos queden conjuntos de train y test bien estratificados (sino corremos el riesgo de que todo nuestro conjunto de testeo contenga solo 1 clase)"
      ],
      "metadata": {
        "id": "9ciU3VnJRf_3"
      }
    },
    {
      "cell_type": "markdown",
      "source": [
        "\n",
        "\n",
        "---\n",
        "\n"
      ],
      "metadata": {
        "id": "ah-jlKlPDKJV"
      }
    },
    {
      "cell_type": "code",
      "source": [
        "negative_class_df = df[df['target'] == 0].reset_index(drop=True)\n",
        "positive_class_df = df[df['target'] == 1].reset_index(drop=True)\n",
        "\n",
        "negative_class_df = negative_class_df.sample(frac=1)\n",
        "positive_class_df = positive_class_df.sample(frac=1)\n",
        "\n",
        "def split_train_test(df_clase, train_frac = 0.9):\n",
        "    n = len(df_clase)\n",
        "    train_end = int(train_frac * n)\n",
        "    train = df_clase[:train_end]\n",
        "    test = df_clase[train_end:]\n",
        "    return train, test\n",
        "\n",
        "train_0, test_0 = split_train_test(negative_class_df)\n",
        "train_1, test_1 = split_train_test(positive_class_df)\n",
        "Una\n",
        "train_df = pd.concat([train_0, train_1]).sample(frac=1).reset_index(drop=True)\n",
        "test_df = pd.concat([test_0, test_1]).sample(frac=1).reset_index(drop=True)\n",
        "\n",
        "proportions_simple = {\n",
        "    \"train\": train_df['target'].value_counts(normalize=True),\n",
        "    \"test\":  test_df['target'].value_counts(normalize=True)\n",
        "}\n",
        "\n",
        "proportions_simple"
      ],
      "metadata": {
        "colab": {
          "base_uri": "https://localhost:8080/",
          "height": 0
        },
        "id": "eBXCykXyP2-O",
        "outputId": "39539af5-a98d-40df-ea62-98c6f1b4a5f9"
      },
      "execution_count": 4,
      "outputs": [
        {
          "output_type": "execute_result",
          "data": {
            "text/plain": [
              "{'train': target\n",
              " 0    0.699332\n",
              " 1    0.300668\n",
              " Name: proportion, dtype: float64,\n",
              " 'test': target\n",
              " 0    0.686275\n",
              " 1    0.313725\n",
              " Name: proportion, dtype: float64}"
            ]
          },
          "metadata": {},
          "execution_count": 4
        }
      ]
    },
    {
      "cell_type": "markdown",
      "source": [
        "Lo que hicimos en el código anterior fue:\n",
        "\n",
        "1- **Configurar el porcentaje** del dataset que usamos para entrenar y el que nos reservamos para testear nuestro(s) modelo(s) final(es).\n",
        "\n",
        "2- **Tomar las muestras** negativas (target = 0) y las positivas (target = 1) y mezclarlas.\n",
        "\n",
        "3- **Separar en train y test** cada una de las listas de muestras teniendo en cuenta i. el porcentaje train-test ii. teniendo en cuenta las proporciones calculadas previamente.\n",
        "\n",
        "4- **Combinar** las muestras de train de cada clase y las de test.\n",
        "\n",
        "\n",
        "---\n",
        "\n",
        "## Definimos nuestro dataset"
      ],
      "metadata": {
        "id": "IGbQbCvgDMFn"
      }
    },
    {
      "cell_type": "code",
      "source": [
        "X_train = train_df.drop(columns=[\"target\"])\n",
        "y_train = train_df[\"target\"]\n",
        "\n",
        "X_test = test_df.drop(columns=[\"target\"])\n",
        "y_test = test_df[\"target\"]"
      ],
      "metadata": {
        "id": "PtLyXBn4SZ22"
      },
      "execution_count": 5,
      "outputs": []
    },
    {
      "cell_type": "markdown",
      "metadata": {
        "id": "JZmhbb7tIqF2"
      },
      "source": [
        "## Ejercicio 2\n",
        "\n",
        "\n",
        "### Construcción de modelos\n",
        "\n",
        "Para este punto, la tarea consiste en construir y evaluar modelos de tipo **árbol de decisión**. Además, obtener una **estimación realista de la performance** de los mismos.\n",
        "\n",
        "1. Entrenar un árbol de decisión con altura máxima 3 y el resto de los hiperparámetros en default.\n",
        "\n",
        "1. Estimar la performance del modelo utilizando _K-fold cross validation_ con `K=5`, con las métricas _Accuracy_, _Area Under the Precision-Recall Curve (AUPRC)_, y _Area Under the Receiver Operating Characteristic Curve (AUCROC)_.\n",
        "\n",
        "   En esta oportunidad se va a pedir además de calcular las métricas para cada fold por separado y su promedio, que hagan el cálculo del score global (como vimos en clase), sólo para los folds de validación.\n",
        "   \n",
        "   Reportar el resultado en una tabla similar a:\n",
        "\n",
        "      <table>\n",
        "      <thead>\n",
        "      <tr>\n",
        "      <th align=\"center\">Permutación</th>\n",
        "      <th>Accuracy (training)</th>\n",
        "      <th>Accuracy (validación)</th>\n",
        "      <th>AUPRC (training)</th>\n",
        "      <th>AUPRC (validación)</th>\n",
        "      <th>AUC ROC (training)</th>\n",
        "      <th>AUC ROC (validación)</th>\n",
        "      </tr>\n",
        "      </thead>\n",
        "      <tbody>\n",
        "      <tr>\n",
        "      <td align=\"center\">1</td>\n",
        "      <td></td>\n",
        "      <td></td>\n",
        "      <td></td>\n",
        "      <td></td>\n",
        "      <td></td>\n",
        "      <td></td>\n",
        "      </tr>\n",
        "      <tr>\n",
        "      <td align=\"center\">2</td>\n",
        "      <td></td>\n",
        "      <td></td>\n",
        "      <td></td>\n",
        "      <td></td>\n",
        "      <td></td>\n",
        "      <td></td>\n",
        "      </tr>\n",
        "      <tr>\n",
        "      <td align=\"center\">3</td>\n",
        "      <td></td>\n",
        "      <td></td>\n",
        "      <td></td>\n",
        "      <td></td>\n",
        "      <td></td>\n",
        "      <td></td>\n",
        "      </tr>\n",
        "      <tr>\n",
        "      <td align=\"center\">4</td>\n",
        "      <td></td>\n",
        "      <td></td>\n",
        "      <td></td>\n",
        "      <td></td>\n",
        "      <td></td>\n",
        "      <td></td>\n",
        "      </tr>\n",
        "      <tr>\n",
        "      <td align=\"center\">5</td>\n",
        "      <td></td>\n",
        "      <td></td>\n",
        "      <td></td>\n",
        "      <td></td>\n",
        "      <td></td>\n",
        "      <td></td>\n",
        "      </tr>\n",
        "      <tr>\n",
        "      <td align=\"center\">Promedios</td>\n",
        "      <td></td>\n",
        "      <td></td>\n",
        "      <td></td>\n",
        "      <td></td>\n",
        "      <td></td>\n",
        "      <td></td>\n",
        "      </tr>\n",
        "      <td align=\"center\">Global</td>\n",
        "      <td>(NO) </td>\n",
        "      <td></td>\n",
        "      <td>(NO) </td>\n",
        "      <td></td>\n",
        "      <td>(NO) </td>\n",
        "      <td></td>\n",
        "      </tr>\n",
        "      </tbody>\n",
        "      </table>    \n",
        "  \n",
        "   **Importante**: de acá en más sólamente utilizaremos el score promedio cuando hagamos _K-fold cross-validation_.\n",
        "\n",
        "1. Explorar las siguientes combinaciones de parámetros para  árboles de decisión (siguiendo con $k-fold$ con $k=5$) utilizando [ParameterGrid](https://scikit-learn.org/stable/modules/generated/sklearn.model_selection.ParameterGrid.html) de _scikit learn_. No está permitido utilizar `GridSearchCV` en este ejercicio.\n",
        "\n",
        "   <table>\n",
        "   <thead>\n",
        "   <tr>\n",
        "   <th align=\"center\">Altura máxima</th>\n",
        "   <th align=\"center\">Criterio de corte</th>\n",
        "   <th>Accuracy (training)</th>\n",
        "   <th>Accuracy (validación)</th>\n",
        "   </tr>\n",
        "   </thead>\n",
        "   <tbody><tr>\n",
        "   <td align=\"center\">3</td>\n",
        "   <td align=\"center\">Gini</td>\n",
        "   <td></td>\n",
        "   <td></td>\n",
        "   </tr>\n",
        "   <tr>\n",
        "   <td align=\"center\">5</td>\n",
        "   <td align=\"center\">Gini</td>\n",
        "   <td></td>\n",
        "   <td></td>\n",
        "   </tr>\n",
        "   <tr>\n",
        "   <td align=\"center\">Infinito</td>\n",
        "   <td align=\"center\">Gini</td>\n",
        "   <td></td>\n",
        "   <td></td>\n",
        "   </tr>\n",
        "   <tr>\n",
        "   <td align=\"center\">3</td>\n",
        "   <td align=\"center\">Entropía</td>\n",
        "   <td></td>\n",
        "   <td></td>\n",
        "   </tr>\n",
        "   <tr>\n",
        "   <td align=\"center\">5</td>\n",
        "   <td align=\"center\">Entropía</td>\n",
        "   <td></td>\n",
        "   <td></td>\n",
        "   </tr>\n",
        "   <tr>\n",
        "   <td align=\"center\">Infinito</td>\n",
        "   <td align=\"center\">Entropía</td>\n",
        "   <td></td>\n",
        "   <td></td>\n",
        "   </tr>\n",
        "   </tbody></table>\n",
        "\n",
        "1. ¿Qué conclusiones se pueden sacar de estas tablas?  "
      ]
    },
    {
      "cell_type": "markdown",
      "source": [
        "### 2.1"
      ],
      "metadata": {
        "id": "PZEpDsU8SaGj"
      }
    },
    {
      "cell_type": "code",
      "source": [
        "tree_model = DecisionTreeClassifier(max_depth=3, random_state=42)"
      ],
      "metadata": {
        "id": "F-ErNPy6FSTr"
      },
      "execution_count": 6,
      "outputs": []
    },
    {
      "cell_type": "markdown",
      "source": [
        "Definimos nuestro arbol de decisión con los parametros indicados."
      ],
      "metadata": {
        "id": "rqcCP5KWFVQb"
      }
    },
    {
      "cell_type": "markdown",
      "source": [
        "### 2.2"
      ],
      "metadata": {
        "id": "MoQV24XrTxaa"
      }
    },
    {
      "cell_type": "code",
      "source": [
        "def k_fold_training(X, y, model, k = 5):\n",
        "  train_accuracy_scores = []\n",
        "  train_auprc_scores = []\n",
        "  train_aucroc_scores = []\n",
        "\n",
        "  val_accuracy_scores = []\n",
        "  val_auprc_scores = []\n",
        "  val_aucroc_scores = []\n",
        "\n",
        "  all_y_true = []\n",
        "  all_y_proba = []\n",
        "  folds = StratifiedKFold(n_splits=k, shuffle=True, random_state=42)\n",
        "\n",
        "  for fold, (train_idx, val_idx) in enumerate(folds.split(X, y)):\n",
        "      X_train, X_val = X.iloc[train_idx], X.iloc[val_idx]\n",
        "      y_train, y_val = y.iloc[train_idx], y.iloc[val_idx]\n",
        "\n",
        "      model.fit(X_train, y_train)\n",
        "\n",
        "      y_train_pred = model.predict(X_train)\n",
        "      y_train_proba = model.predict_proba(X_train)[:, 1]\n",
        "\n",
        "      y_val_pred = model.predict(X_val)\n",
        "      y_val_proba = model.predict_proba(X_val)[:, 1]\n",
        "\n",
        "      train_acc = accuracy_score(y_train, y_train_pred)\n",
        "      train_precision, train_recall, _ = precision_recall_curve(y_train, y_train_proba)\n",
        "      train_auprc = auc(train_recall, train_precision)\n",
        "      train_aucroc = roc_auc_score(y_train, y_train_proba)\n",
        "\n",
        "      val_acc = accuracy_score(y_val, y_val_pred)\n",
        "      val_precision, val_recall, _ = precision_recall_curve(y_val, y_val_proba)\n",
        "      val_auprc = auc(val_recall, val_precision)\n",
        "      val_aucroc = roc_auc_score(y_val, y_val_proba)\n",
        "\n",
        "      train_accuracy_scores.append(train_acc)\n",
        "      train_auprc_scores.append(train_auprc)\n",
        "      train_aucroc_scores.append(train_aucroc)\n",
        "\n",
        "      val_accuracy_scores.append(val_acc)\n",
        "      val_auprc_scores.append(val_auprc)\n",
        "      val_aucroc_scores.append(val_aucroc)\n",
        "\n",
        "      all_y_true.extend(y_val)\n",
        "      all_y_proba.extend(y_val_proba)\n",
        "\n",
        "  return {\n",
        "      \"train_accuracy_scores\": train_accuracy_scores,\n",
        "      \"train_auprc_scores\": train_auprc_scores,\n",
        "      \"train_aucroc_scores\": train_aucroc_scores,\n",
        "      \"val_accuracy_scores\": val_accuracy_scores,\n",
        "      \"val_auprc_scores\": val_auprc_scores,\n",
        "      \"val_aucroc_scores\": val_aucroc_scores,\n",
        "      \"all_y_true\": all_y_true,\n",
        "      \"all_y_proba\": all_y_proba\n",
        "    }"
      ],
      "metadata": {
        "id": "pws2j5eGTy_E"
      },
      "execution_count": 7,
      "outputs": []
    },
    {
      "cell_type": "markdown",
      "source": [
        "Para resolver el inciso 2 y el 3 **definimos una función** que toma como parámetros:\n",
        "\n",
        "1. X features\n",
        "\n",
        "2. y columna target\n",
        "\n",
        "3. model, el Modelo a entrenar\n",
        "\n",
        "4. k, la cantidad de folds para realizar la validación cruzada\n",
        "\n",
        "\n",
        "Finalmente ejecutamos un **Strattified K-fold** sobre nuestros datos y calculamos las métricas indicadas en la consigna\n",
        "\n",
        "\n",
        "---\n",
        "\n"
      ],
      "metadata": {
        "id": "Hh_s8fuwFma5"
      }
    },
    {
      "cell_type": "code",
      "source": [
        "k = 5\n",
        "train_acc_scores, \\\n",
        "train_auprc_scores, \\\n",
        "train_aucroc_scores, \\\n",
        "val_acc_scores, \\\n",
        "val_auprc_scores, \\\n",
        "val_aucroc_scores, \\\n",
        "all_y_true, \\\n",
        "all_y_proba = k_fold_training(X_train, y_train, tree_model, k).values()\n",
        "\n",
        "avg_train_acc = np.mean(train_acc_scores)\n",
        "avg_train_auprc = np.mean(train_auprc_scores)\n",
        "avg_train_aucroc = np.mean(train_aucroc_scores)\n",
        "\n",
        "avg_val_acc = np.mean(val_acc_scores)\n",
        "avg_val_auprc = np.mean(val_auprc_scores)\n",
        "avg_val_aucroc = np.mean(val_aucroc_scores)\n",
        "\n",
        "precision_global, recall_global, _ = precision_recall_curve(all_y_true, all_y_proba)\n",
        "global_auprc = auc(recall_global, precision_global)\n",
        "global_aucroc = roc_auc_score(all_y_true, all_y_proba)\n",
        "global_accuracy = accuracy_score(all_y_true, np.array(all_y_proba) > 0.5)\n",
        "\n",
        "final_score_table = pd.DataFrame({\n",
        "    \"Permutación\": [str(i + 1) for i in range(k)] + [\"Promedios\", \"Global\"],\n",
        "    \"Accuracy (training)\": train_acc_scores + [avg_train_acc, \"NO\"],\n",
        "    \"Accuracy (validación)\": val_acc_scores + [avg_val_acc, global_accuracy],\n",
        "    \"AUPRC (training)\": train_auprc_scores + [avg_train_auprc, \"NO\"],\n",
        "    \"AUPRC (validación)\": val_auprc_scores + [avg_val_auprc, global_auprc],\n",
        "    \"AUC ROC (training)\": train_aucroc_scores + [avg_train_aucroc, \"NO\"],\n",
        "    \"AUC ROC (validación)\": val_aucroc_scores + [avg_val_aucroc, global_aucroc]\n",
        "})\n",
        "\n",
        "final_score_table"
      ],
      "metadata": {
        "colab": {
          "base_uri": "https://localhost:8080/",
          "height": 286
        },
        "id": "Eafgxc4TFkvK",
        "outputId": "e9cd827a-3a6f-4e50-cb2d-63b033e819f7"
      },
      "execution_count": 8,
      "outputs": [
        {
          "output_type": "execute_result",
          "data": {
            "text/plain": [
              "  Permutación Accuracy (training)  Accuracy (validación) AUPRC (training)  \\\n",
              "0           1            0.805014               0.722222         0.740471   \n",
              "1           2            0.777159               0.622222         0.754101   \n",
              "2           3            0.810585               0.711111         0.703889   \n",
              "3           4            0.807799               0.588889         0.669512   \n",
              "4           5            0.836111               0.707865         0.708501   \n",
              "5   Promedios            0.807334               0.670462         0.715295   \n",
              "6      Global                  NO               0.670379               NO   \n",
              "\n",
              "   AUPRC (validación) AUC ROC (training)  AUC ROC (validación)  \n",
              "0            0.406262           0.805279              0.645209  \n",
              "1            0.361583           0.838129              0.631393  \n",
              "2            0.439166           0.820828              0.642563  \n",
              "3            0.345945           0.836118              0.523810  \n",
              "4            0.414424           0.789701              0.652330  \n",
              "5            0.393476           0.818011              0.619061  \n",
              "6            0.384916                 NO              0.632779  "
            ],
            "text/html": [
              "\n",
              "  <div id=\"df-64bf2c51-3791-4a5a-9d7d-7f3e6dc8dde2\" class=\"colab-df-container\">\n",
              "    <div>\n",
              "<style scoped>\n",
              "    .dataframe tbody tr th:only-of-type {\n",
              "        vertical-align: middle;\n",
              "    }\n",
              "\n",
              "    .dataframe tbody tr th {\n",
              "        vertical-align: top;\n",
              "    }\n",
              "\n",
              "    .dataframe thead th {\n",
              "        text-align: right;\n",
              "    }\n",
              "</style>\n",
              "<table border=\"1\" class=\"dataframe\">\n",
              "  <thead>\n",
              "    <tr style=\"text-align: right;\">\n",
              "      <th></th>\n",
              "      <th>Permutación</th>\n",
              "      <th>Accuracy (training)</th>\n",
              "      <th>Accuracy (validación)</th>\n",
              "      <th>AUPRC (training)</th>\n",
              "      <th>AUPRC (validación)</th>\n",
              "      <th>AUC ROC (training)</th>\n",
              "      <th>AUC ROC (validación)</th>\n",
              "    </tr>\n",
              "  </thead>\n",
              "  <tbody>\n",
              "    <tr>\n",
              "      <th>0</th>\n",
              "      <td>1</td>\n",
              "      <td>0.805014</td>\n",
              "      <td>0.722222</td>\n",
              "      <td>0.740471</td>\n",
              "      <td>0.406262</td>\n",
              "      <td>0.805279</td>\n",
              "      <td>0.645209</td>\n",
              "    </tr>\n",
              "    <tr>\n",
              "      <th>1</th>\n",
              "      <td>2</td>\n",
              "      <td>0.777159</td>\n",
              "      <td>0.622222</td>\n",
              "      <td>0.754101</td>\n",
              "      <td>0.361583</td>\n",
              "      <td>0.838129</td>\n",
              "      <td>0.631393</td>\n",
              "    </tr>\n",
              "    <tr>\n",
              "      <th>2</th>\n",
              "      <td>3</td>\n",
              "      <td>0.810585</td>\n",
              "      <td>0.711111</td>\n",
              "      <td>0.703889</td>\n",
              "      <td>0.439166</td>\n",
              "      <td>0.820828</td>\n",
              "      <td>0.642563</td>\n",
              "    </tr>\n",
              "    <tr>\n",
              "      <th>3</th>\n",
              "      <td>4</td>\n",
              "      <td>0.807799</td>\n",
              "      <td>0.588889</td>\n",
              "      <td>0.669512</td>\n",
              "      <td>0.345945</td>\n",
              "      <td>0.836118</td>\n",
              "      <td>0.523810</td>\n",
              "    </tr>\n",
              "    <tr>\n",
              "      <th>4</th>\n",
              "      <td>5</td>\n",
              "      <td>0.836111</td>\n",
              "      <td>0.707865</td>\n",
              "      <td>0.708501</td>\n",
              "      <td>0.414424</td>\n",
              "      <td>0.789701</td>\n",
              "      <td>0.652330</td>\n",
              "    </tr>\n",
              "    <tr>\n",
              "      <th>5</th>\n",
              "      <td>Promedios</td>\n",
              "      <td>0.807334</td>\n",
              "      <td>0.670462</td>\n",
              "      <td>0.715295</td>\n",
              "      <td>0.393476</td>\n",
              "      <td>0.818011</td>\n",
              "      <td>0.619061</td>\n",
              "    </tr>\n",
              "    <tr>\n",
              "      <th>6</th>\n",
              "      <td>Global</td>\n",
              "      <td>NO</td>\n",
              "      <td>0.670379</td>\n",
              "      <td>NO</td>\n",
              "      <td>0.384916</td>\n",
              "      <td>NO</td>\n",
              "      <td>0.632779</td>\n",
              "    </tr>\n",
              "  </tbody>\n",
              "</table>\n",
              "</div>\n",
              "    <div class=\"colab-df-buttons\">\n",
              "\n",
              "  <div class=\"colab-df-container\">\n",
              "    <button class=\"colab-df-convert\" onclick=\"convertToInteractive('df-64bf2c51-3791-4a5a-9d7d-7f3e6dc8dde2')\"\n",
              "            title=\"Convert this dataframe to an interactive table.\"\n",
              "            style=\"display:none;\">\n",
              "\n",
              "  <svg xmlns=\"http://www.w3.org/2000/svg\" height=\"24px\" viewBox=\"0 -960 960 960\">\n",
              "    <path d=\"M120-120v-720h720v720H120Zm60-500h600v-160H180v160Zm220 220h160v-160H400v160Zm0 220h160v-160H400v160ZM180-400h160v-160H180v160Zm440 0h160v-160H620v160ZM180-180h160v-160H180v160Zm440 0h160v-160H620v160Z\"/>\n",
              "  </svg>\n",
              "    </button>\n",
              "\n",
              "  <style>\n",
              "    .colab-df-container {\n",
              "      display:flex;\n",
              "      gap: 12px;\n",
              "    }\n",
              "\n",
              "    .colab-df-convert {\n",
              "      background-color: #E8F0FE;\n",
              "      border: none;\n",
              "      border-radius: 50%;\n",
              "      cursor: pointer;\n",
              "      display: none;\n",
              "      fill: #1967D2;\n",
              "      height: 32px;\n",
              "      padding: 0 0 0 0;\n",
              "      width: 32px;\n",
              "    }\n",
              "\n",
              "    .colab-df-convert:hover {\n",
              "      background-color: #E2EBFA;\n",
              "      box-shadow: 0px 1px 2px rgba(60, 64, 67, 0.3), 0px 1px 3px 1px rgba(60, 64, 67, 0.15);\n",
              "      fill: #174EA6;\n",
              "    }\n",
              "\n",
              "    .colab-df-buttons div {\n",
              "      margin-bottom: 4px;\n",
              "    }\n",
              "\n",
              "    [theme=dark] .colab-df-convert {\n",
              "      background-color: #3B4455;\n",
              "      fill: #D2E3FC;\n",
              "    }\n",
              "\n",
              "    [theme=dark] .colab-df-convert:hover {\n",
              "      background-color: #434B5C;\n",
              "      box-shadow: 0px 1px 3px 1px rgba(0, 0, 0, 0.15);\n",
              "      filter: drop-shadow(0px 1px 2px rgba(0, 0, 0, 0.3));\n",
              "      fill: #FFFFFF;\n",
              "    }\n",
              "  </style>\n",
              "\n",
              "    <script>\n",
              "      const buttonEl =\n",
              "        document.querySelector('#df-64bf2c51-3791-4a5a-9d7d-7f3e6dc8dde2 button.colab-df-convert');\n",
              "      buttonEl.style.display =\n",
              "        google.colab.kernel.accessAllowed ? 'block' : 'none';\n",
              "\n",
              "      async function convertToInteractive(key) {\n",
              "        const element = document.querySelector('#df-64bf2c51-3791-4a5a-9d7d-7f3e6dc8dde2');\n",
              "        const dataTable =\n",
              "          await google.colab.kernel.invokeFunction('convertToInteractive',\n",
              "                                                    [key], {});\n",
              "        if (!dataTable) return;\n",
              "\n",
              "        const docLinkHtml = 'Like what you see? Visit the ' +\n",
              "          '<a target=\"_blank\" href=https://colab.research.google.com/notebooks/data_table.ipynb>data table notebook</a>'\n",
              "          + ' to learn more about interactive tables.';\n",
              "        element.innerHTML = '';\n",
              "        dataTable['output_type'] = 'display_data';\n",
              "        await google.colab.output.renderOutput(dataTable, element);\n",
              "        const docLink = document.createElement('div');\n",
              "        docLink.innerHTML = docLinkHtml;\n",
              "        element.appendChild(docLink);\n",
              "      }\n",
              "    </script>\n",
              "  </div>\n",
              "\n",
              "\n",
              "    <div id=\"df-be281bdd-95e0-476d-b912-612f517a83fb\">\n",
              "      <button class=\"colab-df-quickchart\" onclick=\"quickchart('df-be281bdd-95e0-476d-b912-612f517a83fb')\"\n",
              "                title=\"Suggest charts\"\n",
              "                style=\"display:none;\">\n",
              "\n",
              "<svg xmlns=\"http://www.w3.org/2000/svg\" height=\"24px\"viewBox=\"0 0 24 24\"\n",
              "     width=\"24px\">\n",
              "    <g>\n",
              "        <path d=\"M19 3H5c-1.1 0-2 .9-2 2v14c0 1.1.9 2 2 2h14c1.1 0 2-.9 2-2V5c0-1.1-.9-2-2-2zM9 17H7v-7h2v7zm4 0h-2V7h2v10zm4 0h-2v-4h2v4z\"/>\n",
              "    </g>\n",
              "</svg>\n",
              "      </button>\n",
              "\n",
              "<style>\n",
              "  .colab-df-quickchart {\n",
              "      --bg-color: #E8F0FE;\n",
              "      --fill-color: #1967D2;\n",
              "      --hover-bg-color: #E2EBFA;\n",
              "      --hover-fill-color: #174EA6;\n",
              "      --disabled-fill-color: #AAA;\n",
              "      --disabled-bg-color: #DDD;\n",
              "  }\n",
              "\n",
              "  [theme=dark] .colab-df-quickchart {\n",
              "      --bg-color: #3B4455;\n",
              "      --fill-color: #D2E3FC;\n",
              "      --hover-bg-color: #434B5C;\n",
              "      --hover-fill-color: #FFFFFF;\n",
              "      --disabled-bg-color: #3B4455;\n",
              "      --disabled-fill-color: #666;\n",
              "  }\n",
              "\n",
              "  .colab-df-quickchart {\n",
              "    background-color: var(--bg-color);\n",
              "    border: none;\n",
              "    border-radius: 50%;\n",
              "    cursor: pointer;\n",
              "    display: none;\n",
              "    fill: var(--fill-color);\n",
              "    height: 32px;\n",
              "    padding: 0;\n",
              "    width: 32px;\n",
              "  }\n",
              "\n",
              "  .colab-df-quickchart:hover {\n",
              "    background-color: var(--hover-bg-color);\n",
              "    box-shadow: 0 1px 2px rgba(60, 64, 67, 0.3), 0 1px 3px 1px rgba(60, 64, 67, 0.15);\n",
              "    fill: var(--button-hover-fill-color);\n",
              "  }\n",
              "\n",
              "  .colab-df-quickchart-complete:disabled,\n",
              "  .colab-df-quickchart-complete:disabled:hover {\n",
              "    background-color: var(--disabled-bg-color);\n",
              "    fill: var(--disabled-fill-color);\n",
              "    box-shadow: none;\n",
              "  }\n",
              "\n",
              "  .colab-df-spinner {\n",
              "    border: 2px solid var(--fill-color);\n",
              "    border-color: transparent;\n",
              "    border-bottom-color: var(--fill-color);\n",
              "    animation:\n",
              "      spin 1s steps(1) infinite;\n",
              "  }\n",
              "\n",
              "  @keyframes spin {\n",
              "    0% {\n",
              "      border-color: transparent;\n",
              "      border-bottom-color: var(--fill-color);\n",
              "      border-left-color: var(--fill-color);\n",
              "    }\n",
              "    20% {\n",
              "      border-color: transparent;\n",
              "      border-left-color: var(--fill-color);\n",
              "      border-top-color: var(--fill-color);\n",
              "    }\n",
              "    30% {\n",
              "      border-color: transparent;\n",
              "      border-left-color: var(--fill-color);\n",
              "      border-top-color: var(--fill-color);\n",
              "      border-right-color: var(--fill-color);\n",
              "    }\n",
              "    40% {\n",
              "      border-color: transparent;\n",
              "      border-right-color: var(--fill-color);\n",
              "      border-top-color: var(--fill-color);\n",
              "    }\n",
              "    60% {\n",
              "      border-color: transparent;\n",
              "      border-right-color: var(--fill-color);\n",
              "    }\n",
              "    80% {\n",
              "      border-color: transparent;\n",
              "      border-right-color: var(--fill-color);\n",
              "      border-bottom-color: var(--fill-color);\n",
              "    }\n",
              "    90% {\n",
              "      border-color: transparent;\n",
              "      border-bottom-color: var(--fill-color);\n",
              "    }\n",
              "  }\n",
              "</style>\n",
              "\n",
              "      <script>\n",
              "        async function quickchart(key) {\n",
              "          const quickchartButtonEl =\n",
              "            document.querySelector('#' + key + ' button');\n",
              "          quickchartButtonEl.disabled = true;  // To prevent multiple clicks.\n",
              "          quickchartButtonEl.classList.add('colab-df-spinner');\n",
              "          try {\n",
              "            const charts = await google.colab.kernel.invokeFunction(\n",
              "                'suggestCharts', [key], {});\n",
              "          } catch (error) {\n",
              "            console.error('Error during call to suggestCharts:', error);\n",
              "          }\n",
              "          quickchartButtonEl.classList.remove('colab-df-spinner');\n",
              "          quickchartButtonEl.classList.add('colab-df-quickchart-complete');\n",
              "        }\n",
              "        (() => {\n",
              "          let quickchartButtonEl =\n",
              "            document.querySelector('#df-be281bdd-95e0-476d-b912-612f517a83fb button');\n",
              "          quickchartButtonEl.style.display =\n",
              "            google.colab.kernel.accessAllowed ? 'block' : 'none';\n",
              "        })();\n",
              "      </script>\n",
              "    </div>\n",
              "\n",
              "  <div id=\"id_33f86329-66ad-43fd-8fd4-c1d39c66a7e8\">\n",
              "    <style>\n",
              "      .colab-df-generate {\n",
              "        background-color: #E8F0FE;\n",
              "        border: none;\n",
              "        border-radius: 50%;\n",
              "        cursor: pointer;\n",
              "        display: none;\n",
              "        fill: #1967D2;\n",
              "        height: 32px;\n",
              "        padding: 0 0 0 0;\n",
              "        width: 32px;\n",
              "      }\n",
              "\n",
              "      .colab-df-generate:hover {\n",
              "        background-color: #E2EBFA;\n",
              "        box-shadow: 0px 1px 2px rgba(60, 64, 67, 0.3), 0px 1px 3px 1px rgba(60, 64, 67, 0.15);\n",
              "        fill: #174EA6;\n",
              "      }\n",
              "\n",
              "      [theme=dark] .colab-df-generate {\n",
              "        background-color: #3B4455;\n",
              "        fill: #D2E3FC;\n",
              "      }\n",
              "\n",
              "      [theme=dark] .colab-df-generate:hover {\n",
              "        background-color: #434B5C;\n",
              "        box-shadow: 0px 1px 3px 1px rgba(0, 0, 0, 0.15);\n",
              "        filter: drop-shadow(0px 1px 2px rgba(0, 0, 0, 0.3));\n",
              "        fill: #FFFFFF;\n",
              "      }\n",
              "    </style>\n",
              "    <button class=\"colab-df-generate\" onclick=\"generateWithVariable('final_score_table')\"\n",
              "            title=\"Generate code using this dataframe.\"\n",
              "            style=\"display:none;\">\n",
              "\n",
              "  <svg xmlns=\"http://www.w3.org/2000/svg\" height=\"24px\"viewBox=\"0 0 24 24\"\n",
              "       width=\"24px\">\n",
              "    <path d=\"M7,19H8.4L18.45,9,17,7.55,7,17.6ZM5,21V16.75L18.45,3.32a2,2,0,0,1,2.83,0l1.4,1.43a1.91,1.91,0,0,1,.58,1.4,1.91,1.91,0,0,1-.58,1.4L9.25,21ZM18.45,9,17,7.55Zm-12,3A5.31,5.31,0,0,0,4.9,8.1,5.31,5.31,0,0,0,1,6.5,5.31,5.31,0,0,0,4.9,4.9,5.31,5.31,0,0,0,6.5,1,5.31,5.31,0,0,0,8.1,4.9,5.31,5.31,0,0,0,12,6.5,5.46,5.46,0,0,0,6.5,12Z\"/>\n",
              "  </svg>\n",
              "    </button>\n",
              "    <script>\n",
              "      (() => {\n",
              "      const buttonEl =\n",
              "        document.querySelector('#id_33f86329-66ad-43fd-8fd4-c1d39c66a7e8 button.colab-df-generate');\n",
              "      buttonEl.style.display =\n",
              "        google.colab.kernel.accessAllowed ? 'block' : 'none';\n",
              "\n",
              "      buttonEl.onclick = () => {\n",
              "        google.colab.notebook.generateWithVariable('final_score_table');\n",
              "      }\n",
              "      })();\n",
              "    </script>\n",
              "  </div>\n",
              "\n",
              "    </div>\n",
              "  </div>\n"
            ],
            "application/vnd.google.colaboratory.intrinsic+json": {
              "type": "dataframe",
              "variable_name": "final_score_table",
              "summary": "{\n  \"name\": \"final_score_table\",\n  \"rows\": 7,\n  \"fields\": [\n    {\n      \"column\": \"Permutaci\\u00f3n\",\n      \"properties\": {\n        \"dtype\": \"string\",\n        \"num_unique_values\": 7,\n        \"samples\": [\n          \"1\",\n          \"2\",\n          \"Promedios\"\n        ],\n        \"semantic_type\": \"\",\n        \"description\": \"\"\n      }\n    },\n    {\n      \"column\": \"Accuracy (training)\",\n      \"properties\": {\n        \"dtype\": \"string\",\n        \"num_unique_values\": 7,\n        \"samples\": [\n          0.8050139275766016,\n          0.7771587743732591,\n          0.8073336428350357\n        ],\n        \"semantic_type\": \"\",\n        \"description\": \"\"\n      }\n    },\n    {\n      \"column\": \"Accuracy (validaci\\u00f3n)\",\n      \"properties\": {\n        \"dtype\": \"number\",\n        \"std\": 0.049517206470537894,\n        \"min\": 0.5888888888888889,\n        \"max\": 0.7222222222222222,\n        \"num_unique_values\": 7,\n        \"samples\": [\n          0.7222222222222222,\n          0.6222222222222222,\n          0.6704619225967541\n        ],\n        \"semantic_type\": \"\",\n        \"description\": \"\"\n      }\n    },\n    {\n      \"column\": \"AUPRC (training)\",\n      \"properties\": {\n        \"dtype\": \"string\",\n        \"num_unique_values\": 7,\n        \"samples\": [\n          0.7404707326361777,\n          0.754101116906013,\n          0.7152947352440617\n        ],\n        \"semantic_type\": \"\",\n        \"description\": \"\"\n      }\n    },\n    {\n      \"column\": \"AUPRC (validaci\\u00f3n)\",\n      \"properties\": {\n        \"dtype\": \"number\",\n        \"std\": 0.031699092929073004,\n        \"min\": 0.3459453734780532,\n        \"max\": 0.43916585772954336,\n        \"num_unique_values\": 7,\n        \"samples\": [\n          0.4062624452409398,\n          0.36158326822242803,\n          0.3934761919374525\n        ],\n        \"semantic_type\": \"\",\n        \"description\": \"\"\n      }\n    },\n    {\n      \"column\": \"AUC ROC (training)\",\n      \"properties\": {\n        \"dtype\": \"string\",\n        \"num_unique_values\": 7,\n        \"samples\": [\n          0.8052788844621513,\n          0.8381289656190054,\n          0.8180110100456492\n        ],\n        \"semantic_type\": \"\",\n        \"description\": \"\"\n      }\n    },\n    {\n      \"column\": \"AUC ROC (validaci\\u00f3n)\",\n      \"properties\": {\n        \"dtype\": \"number\",\n        \"std\": 0.044213678470196235,\n        \"min\": 0.5238095238095238,\n        \"max\": 0.6523297491039427,\n        \"num_unique_values\": 7,\n        \"samples\": [\n          0.6452087007642564,\n          0.6313932980599648,\n          0.6190608939712883\n        ],\n        \"semantic_type\": \"\",\n        \"description\": \"\"\n      }\n    }\n  ]\n}"
            }
          },
          "metadata": {},
          "execution_count": 8
        }
      ]
    },
    {
      "cell_type": "markdown",
      "source": [
        "### 2.3"
      ],
      "metadata": {
        "id": "KzOS4OBgpQya"
      }
    },
    {
      "cell_type": "code",
      "source": [
        "parameters_grid = [\n",
        "    {'max_depth': [3, 5, None], 'criterion': ['gini', 'entropy']},\n",
        "]\n",
        "\n",
        "rows = []\n",
        "\n",
        "for parameters in ParameterGrid(param_grid=parameters_grid):\n",
        "    model = DecisionTreeClassifier(**parameters)\n",
        "\n",
        "    results = k_fold_training(X_train, y_train, model, k = 5)\n",
        "\n",
        "    avg_train_acc = np.mean(results['train_accuracy_scores'])\n",
        "    avg_val_acc = np.mean(results['val_accuracy_scores'])\n",
        "\n",
        "    rows.append({\n",
        "        'Altura máxima': parameters['max_depth'] or 'inf',\n",
        "        'Criterio de corte': parameters['criterion'],\n",
        "        'Accuracy (training)': avg_train_acc,\n",
        "        'Accuracy (validación)': avg_val_acc\n",
        "    })\n",
        "\n",
        "table = pd.DataFrame(rows)\n",
        "table"
      ],
      "metadata": {
        "colab": {
          "base_uri": "https://localhost:8080/",
          "height": 238
        },
        "id": "6PzgtNSFo8S7",
        "outputId": "f857db40-b13e-4360-f08b-3115d6e2c9aa"
      },
      "execution_count": 9,
      "outputs": [
        {
          "output_type": "execute_result",
          "data": {
            "text/plain": [
              "  Altura máxima Criterio de corte  Accuracy (training)  Accuracy (validación)\n",
              "0             3              gini             0.807334               0.670462\n",
              "1             5              gini             0.928737               0.670437\n",
              "2           inf              gini             1.000000               0.672534\n",
              "3             3           entropy             0.797331               0.690462\n",
              "4             5           entropy             0.909810               0.634757\n",
              "5           inf           entropy             1.000000               0.652684"
            ],
            "text/html": [
              "\n",
              "  <div id=\"df-7169454a-1845-43ac-85ff-8adf97c8ea69\" class=\"colab-df-container\">\n",
              "    <div>\n",
              "<style scoped>\n",
              "    .dataframe tbody tr th:only-of-type {\n",
              "        vertical-align: middle;\n",
              "    }\n",
              "\n",
              "    .dataframe tbody tr th {\n",
              "        vertical-align: top;\n",
              "    }\n",
              "\n",
              "    .dataframe thead th {\n",
              "        text-align: right;\n",
              "    }\n",
              "</style>\n",
              "<table border=\"1\" class=\"dataframe\">\n",
              "  <thead>\n",
              "    <tr style=\"text-align: right;\">\n",
              "      <th></th>\n",
              "      <th>Altura máxima</th>\n",
              "      <th>Criterio de corte</th>\n",
              "      <th>Accuracy (training)</th>\n",
              "      <th>Accuracy (validación)</th>\n",
              "    </tr>\n",
              "  </thead>\n",
              "  <tbody>\n",
              "    <tr>\n",
              "      <th>0</th>\n",
              "      <td>3</td>\n",
              "      <td>gini</td>\n",
              "      <td>0.807334</td>\n",
              "      <td>0.670462</td>\n",
              "    </tr>\n",
              "    <tr>\n",
              "      <th>1</th>\n",
              "      <td>5</td>\n",
              "      <td>gini</td>\n",
              "      <td>0.928737</td>\n",
              "      <td>0.670437</td>\n",
              "    </tr>\n",
              "    <tr>\n",
              "      <th>2</th>\n",
              "      <td>inf</td>\n",
              "      <td>gini</td>\n",
              "      <td>1.000000</td>\n",
              "      <td>0.672534</td>\n",
              "    </tr>\n",
              "    <tr>\n",
              "      <th>3</th>\n",
              "      <td>3</td>\n",
              "      <td>entropy</td>\n",
              "      <td>0.797331</td>\n",
              "      <td>0.690462</td>\n",
              "    </tr>\n",
              "    <tr>\n",
              "      <th>4</th>\n",
              "      <td>5</td>\n",
              "      <td>entropy</td>\n",
              "      <td>0.909810</td>\n",
              "      <td>0.634757</td>\n",
              "    </tr>\n",
              "    <tr>\n",
              "      <th>5</th>\n",
              "      <td>inf</td>\n",
              "      <td>entropy</td>\n",
              "      <td>1.000000</td>\n",
              "      <td>0.652684</td>\n",
              "    </tr>\n",
              "  </tbody>\n",
              "</table>\n",
              "</div>\n",
              "    <div class=\"colab-df-buttons\">\n",
              "\n",
              "  <div class=\"colab-df-container\">\n",
              "    <button class=\"colab-df-convert\" onclick=\"convertToInteractive('df-7169454a-1845-43ac-85ff-8adf97c8ea69')\"\n",
              "            title=\"Convert this dataframe to an interactive table.\"\n",
              "            style=\"display:none;\">\n",
              "\n",
              "  <svg xmlns=\"http://www.w3.org/2000/svg\" height=\"24px\" viewBox=\"0 -960 960 960\">\n",
              "    <path d=\"M120-120v-720h720v720H120Zm60-500h600v-160H180v160Zm220 220h160v-160H400v160Zm0 220h160v-160H400v160ZM180-400h160v-160H180v160Zm440 0h160v-160H620v160ZM180-180h160v-160H180v160Zm440 0h160v-160H620v160Z\"/>\n",
              "  </svg>\n",
              "    </button>\n",
              "\n",
              "  <style>\n",
              "    .colab-df-container {\n",
              "      display:flex;\n",
              "      gap: 12px;\n",
              "    }\n",
              "\n",
              "    .colab-df-convert {\n",
              "      background-color: #E8F0FE;\n",
              "      border: none;\n",
              "      border-radius: 50%;\n",
              "      cursor: pointer;\n",
              "      display: none;\n",
              "      fill: #1967D2;\n",
              "      height: 32px;\n",
              "      padding: 0 0 0 0;\n",
              "      width: 32px;\n",
              "    }\n",
              "\n",
              "    .colab-df-convert:hover {\n",
              "      background-color: #E2EBFA;\n",
              "      box-shadow: 0px 1px 2px rgba(60, 64, 67, 0.3), 0px 1px 3px 1px rgba(60, 64, 67, 0.15);\n",
              "      fill: #174EA6;\n",
              "    }\n",
              "\n",
              "    .colab-df-buttons div {\n",
              "      margin-bottom: 4px;\n",
              "    }\n",
              "\n",
              "    [theme=dark] .colab-df-convert {\n",
              "      background-color: #3B4455;\n",
              "      fill: #D2E3FC;\n",
              "    }\n",
              "\n",
              "    [theme=dark] .colab-df-convert:hover {\n",
              "      background-color: #434B5C;\n",
              "      box-shadow: 0px 1px 3px 1px rgba(0, 0, 0, 0.15);\n",
              "      filter: drop-shadow(0px 1px 2px rgba(0, 0, 0, 0.3));\n",
              "      fill: #FFFFFF;\n",
              "    }\n",
              "  </style>\n",
              "\n",
              "    <script>\n",
              "      const buttonEl =\n",
              "        document.querySelector('#df-7169454a-1845-43ac-85ff-8adf97c8ea69 button.colab-df-convert');\n",
              "      buttonEl.style.display =\n",
              "        google.colab.kernel.accessAllowed ? 'block' : 'none';\n",
              "\n",
              "      async function convertToInteractive(key) {\n",
              "        const element = document.querySelector('#df-7169454a-1845-43ac-85ff-8adf97c8ea69');\n",
              "        const dataTable =\n",
              "          await google.colab.kernel.invokeFunction('convertToInteractive',\n",
              "                                                    [key], {});\n",
              "        if (!dataTable) return;\n",
              "\n",
              "        const docLinkHtml = 'Like what you see? Visit the ' +\n",
              "          '<a target=\"_blank\" href=https://colab.research.google.com/notebooks/data_table.ipynb>data table notebook</a>'\n",
              "          + ' to learn more about interactive tables.';\n",
              "        element.innerHTML = '';\n",
              "        dataTable['output_type'] = 'display_data';\n",
              "        await google.colab.output.renderOutput(dataTable, element);\n",
              "        const docLink = document.createElement('div');\n",
              "        docLink.innerHTML = docLinkHtml;\n",
              "        element.appendChild(docLink);\n",
              "      }\n",
              "    </script>\n",
              "  </div>\n",
              "\n",
              "\n",
              "    <div id=\"df-ba29cd26-0a5f-43f1-be1f-f7ffa72a0827\">\n",
              "      <button class=\"colab-df-quickchart\" onclick=\"quickchart('df-ba29cd26-0a5f-43f1-be1f-f7ffa72a0827')\"\n",
              "                title=\"Suggest charts\"\n",
              "                style=\"display:none;\">\n",
              "\n",
              "<svg xmlns=\"http://www.w3.org/2000/svg\" height=\"24px\"viewBox=\"0 0 24 24\"\n",
              "     width=\"24px\">\n",
              "    <g>\n",
              "        <path d=\"M19 3H5c-1.1 0-2 .9-2 2v14c0 1.1.9 2 2 2h14c1.1 0 2-.9 2-2V5c0-1.1-.9-2-2-2zM9 17H7v-7h2v7zm4 0h-2V7h2v10zm4 0h-2v-4h2v4z\"/>\n",
              "    </g>\n",
              "</svg>\n",
              "      </button>\n",
              "\n",
              "<style>\n",
              "  .colab-df-quickchart {\n",
              "      --bg-color: #E8F0FE;\n",
              "      --fill-color: #1967D2;\n",
              "      --hover-bg-color: #E2EBFA;\n",
              "      --hover-fill-color: #174EA6;\n",
              "      --disabled-fill-color: #AAA;\n",
              "      --disabled-bg-color: #DDD;\n",
              "  }\n",
              "\n",
              "  [theme=dark] .colab-df-quickchart {\n",
              "      --bg-color: #3B4455;\n",
              "      --fill-color: #D2E3FC;\n",
              "      --hover-bg-color: #434B5C;\n",
              "      --hover-fill-color: #FFFFFF;\n",
              "      --disabled-bg-color: #3B4455;\n",
              "      --disabled-fill-color: #666;\n",
              "  }\n",
              "\n",
              "  .colab-df-quickchart {\n",
              "    background-color: var(--bg-color);\n",
              "    border: none;\n",
              "    border-radius: 50%;\n",
              "    cursor: pointer;\n",
              "    display: none;\n",
              "    fill: var(--fill-color);\n",
              "    height: 32px;\n",
              "    padding: 0;\n",
              "    width: 32px;\n",
              "  }\n",
              "\n",
              "  .colab-df-quickchart:hover {\n",
              "    background-color: var(--hover-bg-color);\n",
              "    box-shadow: 0 1px 2px rgba(60, 64, 67, 0.3), 0 1px 3px 1px rgba(60, 64, 67, 0.15);\n",
              "    fill: var(--button-hover-fill-color);\n",
              "  }\n",
              "\n",
              "  .colab-df-quickchart-complete:disabled,\n",
              "  .colab-df-quickchart-complete:disabled:hover {\n",
              "    background-color: var(--disabled-bg-color);\n",
              "    fill: var(--disabled-fill-color);\n",
              "    box-shadow: none;\n",
              "  }\n",
              "\n",
              "  .colab-df-spinner {\n",
              "    border: 2px solid var(--fill-color);\n",
              "    border-color: transparent;\n",
              "    border-bottom-color: var(--fill-color);\n",
              "    animation:\n",
              "      spin 1s steps(1) infinite;\n",
              "  }\n",
              "\n",
              "  @keyframes spin {\n",
              "    0% {\n",
              "      border-color: transparent;\n",
              "      border-bottom-color: var(--fill-color);\n",
              "      border-left-color: var(--fill-color);\n",
              "    }\n",
              "    20% {\n",
              "      border-color: transparent;\n",
              "      border-left-color: var(--fill-color);\n",
              "      border-top-color: var(--fill-color);\n",
              "    }\n",
              "    30% {\n",
              "      border-color: transparent;\n",
              "      border-left-color: var(--fill-color);\n",
              "      border-top-color: var(--fill-color);\n",
              "      border-right-color: var(--fill-color);\n",
              "    }\n",
              "    40% {\n",
              "      border-color: transparent;\n",
              "      border-right-color: var(--fill-color);\n",
              "      border-top-color: var(--fill-color);\n",
              "    }\n",
              "    60% {\n",
              "      border-color: transparent;\n",
              "      border-right-color: var(--fill-color);\n",
              "    }\n",
              "    80% {\n",
              "      border-color: transparent;\n",
              "      border-right-color: var(--fill-color);\n",
              "      border-bottom-color: var(--fill-color);\n",
              "    }\n",
              "    90% {\n",
              "      border-color: transparent;\n",
              "      border-bottom-color: var(--fill-color);\n",
              "    }\n",
              "  }\n",
              "</style>\n",
              "\n",
              "      <script>\n",
              "        async function quickchart(key) {\n",
              "          const quickchartButtonEl =\n",
              "            document.querySelector('#' + key + ' button');\n",
              "          quickchartButtonEl.disabled = true;  // To prevent multiple clicks.\n",
              "          quickchartButtonEl.classList.add('colab-df-spinner');\n",
              "          try {\n",
              "            const charts = await google.colab.kernel.invokeFunction(\n",
              "                'suggestCharts', [key], {});\n",
              "          } catch (error) {\n",
              "            console.error('Error during call to suggestCharts:', error);\n",
              "          }\n",
              "          quickchartButtonEl.classList.remove('colab-df-spinner');\n",
              "          quickchartButtonEl.classList.add('colab-df-quickchart-complete');\n",
              "        }\n",
              "        (() => {\n",
              "          let quickchartButtonEl =\n",
              "            document.querySelector('#df-ba29cd26-0a5f-43f1-be1f-f7ffa72a0827 button');\n",
              "          quickchartButtonEl.style.display =\n",
              "            google.colab.kernel.accessAllowed ? 'block' : 'none';\n",
              "        })();\n",
              "      </script>\n",
              "    </div>\n",
              "\n",
              "  <div id=\"id_d7c0fcc5-d00e-4419-b952-2abbb74ef23b\">\n",
              "    <style>\n",
              "      .colab-df-generate {\n",
              "        background-color: #E8F0FE;\n",
              "        border: none;\n",
              "        border-radius: 50%;\n",
              "        cursor: pointer;\n",
              "        display: none;\n",
              "        fill: #1967D2;\n",
              "        height: 32px;\n",
              "        padding: 0 0 0 0;\n",
              "        width: 32px;\n",
              "      }\n",
              "\n",
              "      .colab-df-generate:hover {\n",
              "        background-color: #E2EBFA;\n",
              "        box-shadow: 0px 1px 2px rgba(60, 64, 67, 0.3), 0px 1px 3px 1px rgba(60, 64, 67, 0.15);\n",
              "        fill: #174EA6;\n",
              "      }\n",
              "\n",
              "      [theme=dark] .colab-df-generate {\n",
              "        background-color: #3B4455;\n",
              "        fill: #D2E3FC;\n",
              "      }\n",
              "\n",
              "      [theme=dark] .colab-df-generate:hover {\n",
              "        background-color: #434B5C;\n",
              "        box-shadow: 0px 1px 3px 1px rgba(0, 0, 0, 0.15);\n",
              "        filter: drop-shadow(0px 1px 2px rgba(0, 0, 0, 0.3));\n",
              "        fill: #FFFFFF;\n",
              "      }\n",
              "    </style>\n",
              "    <button class=\"colab-df-generate\" onclick=\"generateWithVariable('table')\"\n",
              "            title=\"Generate code using this dataframe.\"\n",
              "            style=\"display:none;\">\n",
              "\n",
              "  <svg xmlns=\"http://www.w3.org/2000/svg\" height=\"24px\"viewBox=\"0 0 24 24\"\n",
              "       width=\"24px\">\n",
              "    <path d=\"M7,19H8.4L18.45,9,17,7.55,7,17.6ZM5,21V16.75L18.45,3.32a2,2,0,0,1,2.83,0l1.4,1.43a1.91,1.91,0,0,1,.58,1.4,1.91,1.91,0,0,1-.58,1.4L9.25,21ZM18.45,9,17,7.55Zm-12,3A5.31,5.31,0,0,0,4.9,8.1,5.31,5.31,0,0,0,1,6.5,5.31,5.31,0,0,0,4.9,4.9,5.31,5.31,0,0,0,6.5,1,5.31,5.31,0,0,0,8.1,4.9,5.31,5.31,0,0,0,12,6.5,5.46,5.46,0,0,0,6.5,12Z\"/>\n",
              "  </svg>\n",
              "    </button>\n",
              "    <script>\n",
              "      (() => {\n",
              "      const buttonEl =\n",
              "        document.querySelector('#id_d7c0fcc5-d00e-4419-b952-2abbb74ef23b button.colab-df-generate');\n",
              "      buttonEl.style.display =\n",
              "        google.colab.kernel.accessAllowed ? 'block' : 'none';\n",
              "\n",
              "      buttonEl.onclick = () => {\n",
              "        google.colab.notebook.generateWithVariable('table');\n",
              "      }\n",
              "      })();\n",
              "    </script>\n",
              "  </div>\n",
              "\n",
              "    </div>\n",
              "  </div>\n"
            ],
            "application/vnd.google.colaboratory.intrinsic+json": {
              "type": "dataframe",
              "variable_name": "table",
              "summary": "{\n  \"name\": \"table\",\n  \"rows\": 6,\n  \"fields\": [\n    {\n      \"column\": \"Altura m\\u00e1xima\",\n      \"properties\": {\n        \"dtype\": \"string\",\n        \"num_unique_values\": 3,\n        \"samples\": [\n          3,\n          5,\n          \"inf\"\n        ],\n        \"semantic_type\": \"\",\n        \"description\": \"\"\n      }\n    },\n    {\n      \"column\": \"Criterio de corte\",\n      \"properties\": {\n        \"dtype\": \"category\",\n        \"num_unique_values\": 2,\n        \"samples\": [\n          \"entropy\",\n          \"gini\"\n        ],\n        \"semantic_type\": \"\",\n        \"description\": \"\"\n      }\n    },\n    {\n      \"column\": \"Accuracy (training)\",\n      \"properties\": {\n        \"dtype\": \"number\",\n        \"std\": 0.08915035446947783,\n        \"min\": 0.7973305478180129,\n        \"max\": 1.0,\n        \"num_unique_values\": 5,\n        \"samples\": [\n          0.9287372330547818,\n          0.9098096564531104\n        ],\n        \"semantic_type\": \"\",\n        \"description\": \"\"\n      }\n    },\n    {\n      \"column\": \"Accuracy (validaci\\u00f3n)\",\n      \"properties\": {\n        \"dtype\": \"number\",\n        \"std\": 0.019133831903766874,\n        \"min\": 0.6347565543071161,\n        \"max\": 0.690461922596754,\n        \"num_unique_values\": 6,\n        \"samples\": [\n          0.6704619225967541,\n          0.6704369538077403\n        ],\n        \"semantic_type\": \"\",\n        \"description\": \"\"\n      }\n    }\n  ]\n}"
            }
          },
          "metadata": {},
          "execution_count": 9
        }
      ]
    },
    {
      "cell_type": "markdown",
      "source": [
        "Realizamos un grid search aprovechandonos de la clase **ParameterGrid** la cual nos facilita un producto cartesiano de los atributos que definimos en nuestro diccionario de parámetros.\n",
        "\n",
        "Lo que se puede apreciar es que a medida que aumenta la *altura máxima* la *accuracy* en training aumenta (vemos que en altura_max = ∞ la accuracy es 1) pero la accuracy en validación no. Esto nos muestra que puede estar ocurriendo un sobreajuste en los datos. Luego, desde el criterio de corte, no se notaron diferencias significativas."
      ],
      "metadata": {
        "id": "UUKHIIKbHCLE"
      }
    },
    {
      "cell_type": "markdown",
      "metadata": {
        "id": "Aw8x0HdjIqF3"
      },
      "source": [
        "## Ejercicio 3\n",
        "\n",
        "### Comparación de algoritmos\n",
        "\n",
        "Se pide explorar distintas combinaciones de algoritmos de aprendizaje con diferentes configuraciones con el objetivo de **encontrar el mejor modelo** de cada familia de buscar la performance óptima. Para este ejercicio realizar una experimentación utilizando [`RandomizedSearchCV`](https://scikit-learn.org/stable/modules/generated/sklearn.model_selection.RandomizedSearchCV.html). Como métrica de performance usar AUCROC resultante de 5-fold cross-validation.\n",
        "\n",
        "Hiperparámetros_: Revisar la documentación de cada uno de los hiperparámetros para entender qué posibles hiperparámetros impacten de manera positiva en la construcción del algoritmo.\n",
        "\n",
        "Documentación extra sobre [`Tuning hyper-parameters`](https://scikit-learn.org/stable/modules/grid_search.html), leer hasta 3.2.2.\n",
        "\n",
        "1. Algoritmos a probar:\n",
        "  - Árboles de decisión. Mínimo 4 hiperparámetros.\n",
        "  - KNN (k-vecinos más cercanos). Mínimo 3 hiperparámetros.\n",
        "  - SVM (Support vector machine). Mínimo 2 hiperparámetros.\n",
        "\n",
        "Detallar los hiperparámetros elegidos para cada algoritmo y explicar la razón del espacio de búsqueda considerado para cada uno de estos, ¿cuántas iteraciones usaron?. A su vez, reportar la performance asociada de aquellos que consideren relevantes (al menos la mejor combinación para cada algoritmo).\n",
        "\n",
        "2. Compare los resultados obtenidos en el ejercicio anterior con los siguientes modelos con sus hiperparámetros default.\n",
        "\n",
        "  - LDA (Linear discriminant analysis)\n",
        "  - Naïve Bayes\n",
        "\n",
        "¿Qué resultados obtuvo? ¿Qué hiperparámetros podrían ser relevantes explorar en estos modelos? ¿Por qué?\n",
        "\n",
        "3. ¿Cuál fue el mejor modelo y con qué configuración? Explicar por qué creería que dio mejor (recordando qué hace cada algoritmo y con qué tipo de datos están trabajando)."
      ]
    },
    {
      "cell_type": "markdown",
      "source": [
        "### 3.1.1 Arboles"
      ],
      "metadata": {
        "id": "1DzWO-76LSaD"
      }
    },
    {
      "cell_type": "code",
      "source": [
        "parameters_grid = {\n",
        "    'max_depth': list(range(1,51,1)) +[None],\n",
        "    'criterion': ['gini', 'entropy',\"log_loss\"],\n",
        "    'splitter': ['best', 'random'],\n",
        "    'class_weight': [None, 'balanced'],\n",
        "    'min_samples_split': np.arange(2, 101, 5),\n",
        "    'min_samples_leaf': np.arange(1, 21, 5),\n",
        "    'max_features': [None, 'sqrt', 'log2', 0.2, 0.5],\n",
        "    'max_leaf_nodes': np.concatenate([[None], np.arange(2, 101, 5)]),\n",
        "    'min_weight_fraction_leaf': [0.0, 0.01, 0.05],\n",
        "}\n",
        "\n",
        "tree_random_search = RandomizedSearchCV(\n",
        "    estimator=DecisionTreeClassifier(random_state=42),\n",
        "    param_distributions=parameters_grid,\n",
        "    n_iter=1000,\n",
        "    cv=5,\n",
        "    verbose=1,\n",
        "    random_state=42,\n",
        "    n_jobs=-1,\n",
        "    scoring = 'roc_auc'\n",
        ")\n",
        "\n",
        "tree_random_search.fit(X_train, y_train)\n",
        "\n",
        "print(\"Mejores parámetros:\", tree_random_search.best_params_)\n",
        "print(\"Mejor score:\", tree_random_search.best_score_)"
      ],
      "metadata": {
        "colab": {
          "base_uri": "https://localhost:8080/",
          "height": 0
        },
        "id": "qKjs5uKcomUz",
        "outputId": "436a1ce7-b53d-46e4-d526-c9e5571b01be"
      },
      "execution_count": 10,
      "outputs": [
        {
          "output_type": "stream",
          "name": "stdout",
          "text": [
            "Fitting 5 folds for each of 1000 candidates, totalling 5000 fits\n",
            "Mejores parámetros: {'splitter': 'random', 'min_weight_fraction_leaf': 0.05, 'min_samples_split': np.int64(52), 'min_samples_leaf': np.int64(11), 'max_leaf_nodes': 62, 'max_features': None, 'max_depth': 34, 'criterion': 'entropy', 'class_weight': 'balanced'}\n",
            "Mejor score: 0.6821897934801161\n"
          ]
        }
      ]
    },
    {
      "cell_type": "markdown",
      "source": [
        "Hiperparametros elegidos:\n",
        "\n",
        "1. **max_depth:** Define la altura máxima que tendrá el arbol. Variar este parámetro nos ayuda a explorar arboles de diferente complejidad.\n",
        "\n",
        "2. **criterion:** Define el criterio de corte de cada split. Variar este parámetro puede encontrar que un criterio ayuda a disminuir la entropía de una forma más eficiente.\n",
        "\n",
        "3. **splitter:** Define si el split elegido será el óptimo, o dentro de los óptimos de cada clase, uno al azar. Explorar también la rama que elige al azar puede ayudar a encontrar arboles que sobreajusten menos a los datos, al no siempre elegir el mejor corte.\n",
        "\n",
        "4. **min_samples_split:**: Especifica el número mínimo de muestras necesarias para dividir un nodo. Un valor bajo puede llevar a divisiones muy específicas y sobreajuste, mientras que un valor alto evita divisiones en nodos con pocas muestras, favoreciendo la generalización del modelo.\n",
        "\n",
        "\n",
        "El número de iteraciones se definió en 100 para explorar varias combinaciones dentro de nuestro espacio (alrededor de un 20%)"
      ],
      "metadata": {
        "id": "wthSSfbmIhRk"
      }
    },
    {
      "cell_type": "markdown",
      "source": [
        "### 3.1.2 SVM"
      ],
      "metadata": {
        "id": "CFKCqkl3LVYC"
      }
    },
    {
      "cell_type": "code",
      "source": [
        "parameters_grid = {\n",
        "    'C': np.logspace(-4, 4, 20),\n",
        "    'kernel': ['rbf', 'poly', 'sigmoid'],\n",
        "    'gamma': ['scale', 'auto'] + list(np.logspace(-6, 1, 20)),\n",
        "    'degree': [2, 3, 4, 5, 6],\n",
        "    'coef0': [0.0, 0.1, 0.5, 1.0],\n",
        "    'class_weight': [None, 'balanced']\n",
        "}\n",
        "\n",
        "\n",
        "svm_random_search = RandomizedSearchCV(\n",
        "    estimator=SVC(random_state=42, probability=True),\n",
        "    param_distributions=parameters_grid,\n",
        "    n_iter=1000,\n",
        "    cv=5,\n",
        "    verbose=1,\n",
        "    random_state=42,\n",
        "    n_jobs=-1,\n",
        "    scoring = \"roc_auc\",\n",
        ")\n",
        "\n",
        "svm_random_search.fit(X_train, y_train)\n",
        "\n",
        "print(\"Mejores parámetros:\", svm_random_search.best_params_)\n",
        "print(\"Mejor score:\", svm_random_search.best_score_)"
      ],
      "metadata": {
        "colab": {
          "base_uri": "https://localhost:8080/",
          "height": 0
        },
        "id": "rerosvJ88Ave",
        "outputId": "19d12348-6ae2-4a94-e829-719fee09fc5c"
      },
      "execution_count": 23,
      "outputs": [
        {
          "output_type": "stream",
          "name": "stdout",
          "text": [
            "Fitting 5 folds for each of 1000 candidates, totalling 5000 fits\n",
            "Mejores parámetros: {'kernel': 'rbf', 'gamma': 'scale', 'degree': 2, 'coef0': 1.0, 'class_weight': None, 'C': np.float64(206.913808111479)}\n",
            "Mejor score: 0.9195027592877055\n"
          ]
        }
      ]
    },
    {
      "cell_type": "markdown",
      "source": [
        "Hiperparametros elegidos:\n",
        "\n",
        "1. **kernel:** Variar el kernel nos ayuda a explorar distintas formas de separar/representar al espacio transformado de nuestros datos (asi poder encontrar cuál separa mejor linealmente los mismos)\n",
        "\n",
        "2. **C:** Es el parámetro de penalización que controla la tolerancia a errores. Ajustar este valor ayuda a encontrar un equilibrio entre un modelo que se ajusta demasiado a los datos y uno que generaliza mejor.\n",
        "\n",
        "3. **gamma:** Ajusta el alcance de la influencia de cada punto de datos para el kernel gaussiano, lo que influye en la capacidad del modelo para adaptarse a patrones en los datos. Un valor mayor puede llevar a un modelo más complejo, mientras que un valor menor contribuye a una mayor generalización.\n",
        "\n",
        "4. **degree:** Se aplica en kernels polinomiales y define el grado del polinomio. Un valor mayor aumenta la complejidad del modelo al permitir capturar interacciones de orden más alto, lo que puede mejorar el ajuste en ciertos casos pero también incrementar el riesgo de sobreajuste.\n",
        "\n",
        "5. **coef0:** afecta el resultado del kernel 'poly' y 'sigmoid' agregando un término independiente; modifica la curvatura de la frontera.\n",
        "\n",
        "6. **class_weight:** permite darle más importancia a una clase que a otra, útil si las clases están desbalanceadas.\n"
      ],
      "metadata": {
        "id": "JKghfLHOKU3K"
      }
    },
    {
      "cell_type": "markdown",
      "source": [
        "### 3.1.3 KNN"
      ],
      "metadata": {
        "id": "CMKcYCqNLa9c"
      }
    },
    {
      "cell_type": "code",
      "source": [
        "parameters_grid = {\n",
        "    'n_neighbors': np.arange(1, 100),\n",
        "    'weights': ['uniform', 'distance'],\n",
        "    'metric': ['minkowski', 'euclidean', 'manhattan'],\n",
        "    'p': list(range(3,11,1))\n",
        "}\n",
        "\n",
        "knn_random_search = RandomizedSearchCV(\n",
        "    estimator= KNeighborsClassifier(),\n",
        "    param_distributions=parameters_grid,\n",
        "    n_iter=1000,\n",
        "    cv=5,\n",
        "    verbose=1,\n",
        "    random_state=42,\n",
        "    n_jobs=-1,\n",
        "    scoring = \"roc_auc\"\n",
        ")\n",
        "\n",
        "knn_random_search.fit(X_train, y_train)\n",
        "\n",
        "print(\"Mejores parámetros:\", knn_random_search.best_params_)\n",
        "print(\"Mejor score:\", knn_random_search.best_score_)"
      ],
      "metadata": {
        "colab": {
          "base_uri": "https://localhost:8080/",
          "height": 0
        },
        "id": "9FTm4wEs-fwo",
        "outputId": "79c16666-9832-4e77-99c6-4599f511d6a3"
      },
      "execution_count": 26,
      "outputs": [
        {
          "output_type": "stream",
          "name": "stdout",
          "text": [
            "Fitting 5 folds for each of 1000 candidates, totalling 5000 fits\n",
            "Mejores parámetros: {'weights': 'distance', 'p': 9, 'n_neighbors': np.int64(17), 'metric': 'manhattan'}\n",
            "Mejor score: 0.8864368208454231\n"
          ]
        }
      ]
    },
    {
      "cell_type": "markdown",
      "source": [
        "Hiperparametros elegidos:\n",
        "\n",
        "1. **n_neighbors:** Define la cantidad de vecinos considerados para la votación de la clase. Variar este parámetro ayuda a balancear la varianza y el sesgo del modelo: más vecinos reducen la varianza, pero pueden aumentar el sesgo.\n",
        "\n",
        "2. **weights:** Establece la forma de ponderar el voto de cada vecino. Usar ponderaciones, como \"uniforme\" o \"distancia\", puede mejorar el ajuste del modelo especialmente en espacios con muchas dimensiones.\n",
        "\n",
        "3. **metric:** Determina la forma de medir la distancia entre observaciones. Evaluar diferentes métricas permite identificar cuál se ajusta mejor a la distribución y alta dimensionalidad del problema.\n",
        "\n",
        "4. **p:** se usa solo con la métrica 'minkowski' y determina qué tan parecida es la distancia a la manhattan (p=1) o a la euclidiana (p=2)."
      ],
      "metadata": {
        "id": "g8ycJyKhL4Tv"
      }
    },
    {
      "cell_type": "markdown",
      "source": [
        "### 3.1 Conclusiones"
      ],
      "metadata": {
        "id": "FSnBfr8OLrNg"
      }
    },
    {
      "cell_type": "code",
      "source": [
        "table = PrettyTable()\n",
        "table.field_names = [\"Modelo\", \"Score\"]\n",
        "\n",
        "table.add_row([\"Árbol de Decisión\", tree_random_search.best_score_])\n",
        "table.add_row([\"SVM\", svm_random_search.best_score_])\n",
        "table.add_row([\"KNN\", knn_random_search.best_score_])\n",
        "\n",
        "print(table)"
      ],
      "metadata": {
        "id": "wgK5vusQ7xvf",
        "colab": {
          "base_uri": "https://localhost:8080/",
          "height": 0
        },
        "outputId": "914b5f11-67bb-4704-e152-096da02879a4"
      },
      "execution_count": 27,
      "outputs": [
        {
          "output_type": "stream",
          "name": "stdout",
          "text": [
            "+-------------------+--------------------+\n",
            "|       Modelo      |       Score        |\n",
            "+-------------------+--------------------+\n",
            "| Árbol de Decisión | 0.6821897934801161 |\n",
            "|        SVM        | 0.9195027592877055 |\n",
            "|        KNN        | 0.8864368208454231 |\n",
            "+-------------------+--------------------+\n"
          ]
        }
      ]
    },
    {
      "cell_type": "markdown",
      "source": [
        "Observamos que nuestro mejor modelo de SVM evaluado en nuestro conjunto reservado de datos le gana al resto de modelos."
      ],
      "metadata": {
        "id": "t9ZO4P3hNgLZ"
      }
    },
    {
      "cell_type": "markdown",
      "source": [
        "### 3.2"
      ],
      "metadata": {
        "id": "piOvkfCaLdXw"
      }
    },
    {
      "cell_type": "code",
      "source": [
        "lda = LinearDiscriminantAnalysis()\n",
        "lda.fit(X_train, y_train)\n",
        "\n",
        "k = 5\n",
        "train_acc_scores, \\\n",
        "train_auprc_scores, \\\n",
        "train_aucroc_scores, \\\n",
        "val_acc_scores, \\\n",
        "val_auprc_scores, \\\n",
        "val_aucroc_scores, \\\n",
        "all_y_true, \\\n",
        "all_y_proba = k_fold_training(X_train, y_train, lda, k).values()\n",
        "\n",
        "aucroc_lda = roc_auc_score(all_y_true, all_y_proba)"
      ],
      "metadata": {
        "id": "4Jqj_5cGNNz5"
      },
      "execution_count": 28,
      "outputs": []
    },
    {
      "cell_type": "code",
      "source": [
        "naive = GaussianNB()\n",
        "naive.fit(X_train, y_train)\n",
        "\n",
        "k = 5\n",
        "train_acc_scores, \\\n",
        "train_auprc_scores, \\\n",
        "train_aucroc_scores, \\\n",
        "val_acc_scores, \\\n",
        "val_auprc_scores, \\\n",
        "val_aucroc_scores, \\\n",
        "all_y_true, \\\n",
        "all_y_proba = k_fold_training(X_train, y_train, naive, k).values()\n",
        "\n",
        "aucroc_nb = roc_auc_score(all_y_true, all_y_proba)"
      ],
      "metadata": {
        "id": "Of_RS_WzOQhU"
      },
      "execution_count": 29,
      "outputs": []
    },
    {
      "cell_type": "markdown",
      "source": [
        "Nuestra tabla actualizada:"
      ],
      "metadata": {
        "id": "sgrcjluYiRgj"
      }
    },
    {
      "cell_type": "code",
      "source": [
        "table = PrettyTable()\n",
        "table.field_names = [\"Modelo\", \"Score\"]\n",
        "\n",
        "table.add_row([\"Árbol de Decisión\", tree_random_search.best_score_])\n",
        "table.add_row([\"SVM\", svm_random_search.best_score_])\n",
        "table.add_row([\"KNN\", knn_random_search.best_score_])\n",
        "table.add_row([\"LDA (default)\", aucroc_lda])\n",
        "table.add_row([\"Naive Bayes (default)\", aucroc_nb])\n",
        "\n",
        "print(table)"
      ],
      "metadata": {
        "id": "4pekq57Ch2aK",
        "colab": {
          "base_uri": "https://localhost:8080/",
          "height": 0
        },
        "outputId": "e89d6009-6757-4192-a430-e1e271cd8156"
      },
      "execution_count": 30,
      "outputs": [
        {
          "output_type": "stream",
          "name": "stdout",
          "text": [
            "+-----------------------+--------------------+\n",
            "|         Modelo        |       Score        |\n",
            "+-----------------------+--------------------+\n",
            "|   Árbol de Decisión   | 0.6821897934801161 |\n",
            "|          SVM          | 0.9195027592877055 |\n",
            "|          KNN          | 0.8864368208454231 |\n",
            "|     LDA (default)     | 0.7665723047888653 |\n",
            "| Naive Bayes (default) | 0.7993866477942911 |\n",
            "+-----------------------+--------------------+\n"
          ]
        }
      ]
    },
    {
      "cell_type": "markdown",
      "source": [
        "Vemos que por lejos SVM sigue siendo la cabecera de la lista."
      ],
      "metadata": {
        "id": "T__Xx_gOOUbN"
      }
    },
    {
      "cell_type": "markdown",
      "source": [
        "Estos son algunos de los hiperparametros que se podrían ajustar en LDA: el solver, y el shrinkage. Ambos tienen que ver con la forma computacional en la que se calcula o se estima la matriz de covarianza (pieza fundamental del modelo)"
      ],
      "metadata": {
        "id": "R-my3Y_NOd-e"
      }
    },
    {
      "cell_type": "markdown",
      "metadata": {
        "id": "TNGRNtw7IqF4"
      },
      "source": [
        "## Ejercicio 4\n",
        "### Diagnóstico Sesgo-Varianza.\n",
        "\n",
        "<span style=\"color: red;\">(no realizar hasta la clase _Sesgo y Varianza_)</span>\n",
        "\n",
        "En este punto, se pide inspeccionar **tres** de sus mejores modelos encontrados hasta ahora de cada familia de modelos: la mejor configuración para el árbol de decisión y la mejor configuración para SVM. Para ello:\n",
        "\n",
        "1. Graficar curvas de complejidad para cada modelo, variando la profundidad en el caso de árboles, y el hiperparámetro C en el caso de SVM. Diagnosticar cómo afectan al sesgo y a la varianza esos dos hiperparámetros.\n",
        "2. Graficar curvas de aprendizaje para cada modelo pero ahora incluya LDA. En base a estas curvas, sacar conclusiones sobre si los algoritmos parecen haber alcanzado su límite, o bien si aumentar la cantidad de datos debería ayudar.\n",
        "3. Construir un modelo **RandomForest** con 200 árboles. Explorar para qué sirve el hiperparámetro max_features y cómo afecta a la performance del algoritmo mediante una curva de complejidad. Explicar por qué creen que se dieron los resultados obtenidos. Por último, graficar una curva de aprendizaje sobre los parámetros elegidos para determinar si sería útil o no conseguir más datos.\n",
        "\n",
        "\n",
        "**Atención**: Tener en cuenta que debemos seguir utilizando AUC ROC como métrica para estas curvas.\n"
      ]
    },
    {
      "cell_type": "markdown",
      "source": [
        "### 4.1"
      ],
      "metadata": {
        "id": "AeuvEz5uFnGx"
      }
    },
    {
      "cell_type": "code",
      "source": [
        "# Curvas de complejidad SVM\n",
        "best_svm_params = svm_random_search.best_params_.copy()\n",
        "best_svm_params.pop('C')\n",
        "\n",
        "# Valores de C que vamos a probar\n",
        "C_values = np.logspace(-3, 3, 10)\n",
        "train_scores_svm = []\n",
        "val_scores_svm = []\n",
        "\n",
        "for C in C_values:\n",
        "    svm = SVC(C=C, probability=True, **best_svm_params, random_state=42)\n",
        "    resultados = k_fold_training(X_train, y_train,svm,5)\n",
        "    train_auc = np.mean(resultados[\"train_aucroc_scores\"])\n",
        "    val_auc = np.mean(resultados[\"val_aucroc_scores\"])\n",
        "    train_scores_svm.append(train_auc)\n",
        "    val_scores_svm.append(val_auc)\n",
        "\n",
        "plt.figure(figsize=(8,5))\n",
        "plt.plot(C_values, train_scores_svm, label='AUCROC Train', marker='o')\n",
        "plt.plot(C_values, val_scores_svm, label='AUCROC Validación', marker='o')\n",
        "plt.xscale('log')\n",
        "plt.ylim(0,1)\n",
        "plt.xlabel('C (log scale)')\n",
        "plt.ylabel('AUC ROC')\n",
        "plt.title('Curva de Complejidad - SVM')\n",
        "plt.legend()\n",
        "plt.grid()\n",
        "plt.show()\n"
      ],
      "metadata": {
        "id": "f91CmfnzykNn",
        "colab": {
          "base_uri": "https://localhost:8080/",
          "height": 492
        },
        "outputId": "b76d06f5-32cf-4179-c8ad-7556524f61e5"
      },
      "execution_count": 31,
      "outputs": [
        {
          "output_type": "display_data",
          "data": {
            "text/plain": [
              "<Figure size 800x500 with 1 Axes>"
            ],
            "image/png": "[encoded data removed]"
          },
          "metadata": {}
        }
      ]
    },
    {
      "cell_type": "markdown",
      "source": [
        "Podemos observar en el gráfico que, al tomar la mejor combinación de hiperparámetros y variar únicamente el valor de C, se produce un salto en la complejidad del modelo a partir de C ≈ 2.15. Sin embargo, en la búsqueda realizada, la mejor combinación reportada por RandomizedSearchCV utilizó un valor de C ≈ 46.42.\n",
        "\n",
        "Al analizar en detalle las combinaciones de hiperparámetros probadas durante la búsqueda, encontramos que no se evaluó la opción de C ≈ 2.15 junto con el resto de los mejores hiperparámetros encontrados.\n",
        "\n",
        "Como conclusión, encontramos una mejor combinación de hiperparámetros (con C ≈ 2.15) que la propuesta inicialmente por RandomizedSearchCV (con C ≈ 46.42)."
      ],
      "metadata": {
        "id": "adpt1ov-BAif"
      }
    },
    {
      "cell_type": "code",
      "source": [
        "# Accedemos a todos los parámetros probados\n",
        "all_params = svm_random_search.cv_results_['params']\n",
        "\n",
        "# Filtramos los que tengan C entre 2 y 3\n",
        "filtered_params = [p for p in all_params if 2 <= p['C'] <= 3]\n",
        "for params in filtered_params:\n",
        "    print(params)"
      ],
      "metadata": {
        "id": "47pKwLAAA34L"
      },
      "execution_count": 32,
      "outputs": []
    },
    {
      "cell_type": "code",
      "source": [
        "# Curvas de complejidad Arbol Decision\n",
        "best_tree_params = tree_random_search.best_params_.copy()\n",
        "best_tree_params.pop('max_depth')\n",
        "\n",
        "max_depth_values = list(np.arange(1, 20))\n",
        "train_scores_tree = []\n",
        "val_scores_tree = []\n",
        "\n",
        "for max_depth in max_depth_values:\n",
        "    tree = DecisionTreeClassifier(max_depth=max_depth,**best_tree_params,random_state=42)\n",
        "    resultados = k_fold_training(X_train, y_train,tree,5)\n",
        "    train_auc = np.mean(resultados[\"train_aucroc_scores\"])\n",
        "    val_auc = np.mean(resultados[\"val_aucroc_scores\"])\n",
        "    train_scores_tree.append(train_auc)\n",
        "    val_scores_tree.append(val_auc)\n",
        "\n",
        "plt.figure(figsize=(8,5))\n",
        "plt.plot(max_depth_values, train_scores_tree, label='AUCROC Train', marker='o')\n",
        "plt.plot(max_depth_values, val_scores_tree, label='AUCROC Validación', marker='o')\n",
        "plt.xlabel('max_depth')\n",
        "plt.ylabel('AUC ROC')\n",
        "plt.ylim(0, 1)\n",
        "plt.title('Curva de Complejidad - Arbol de Decision')\n",
        "plt.legend()\n",
        "plt.grid()\n",
        "plt.show()\n"
      ],
      "metadata": {
        "id": "gmM3pDwvDD89",
        "colab": {
          "base_uri": "https://localhost:8080/",
          "height": 487
        },
        "outputId": "ad73ef81-1f33-400f-cd60-3f6abac20065"
      },
      "execution_count": 33,
      "outputs": [
        {
          "output_type": "display_data",
          "data": {
            "text/plain": [
              "<Figure size 800x500 with 1 Axes>"
            ],
            "image/png": "[encoded data removed]"
          },
          "metadata": {}
        }
      ]
    },
    {
      "cell_type": "markdown",
      "source": [
        "### 4.2"
      ],
      "metadata": {
        "id": "X_V_Hbj2D5bm"
      }
    },
    {
      "cell_type": "code",
      "source": [
        "# SVM\n",
        "svm = SVC(probability=True, **best_svm_params, random_state=42)\n",
        "# Decision Tree\n",
        "tree = DecisionTreeClassifier(**best_tree_params, random_state=42)\n",
        "# LDA\n",
        "lda = LinearDiscriminantAnalysis()"
      ],
      "metadata": {
        "id": "se5jVms7XwZy"
      },
      "execution_count": 34,
      "outputs": []
    },
    {
      "cell_type": "code",
      "source": [
        "fig, ax = plt.subplots(nrows=1, ncols=3, figsize=(15, 6), sharey=True)\n",
        "\n",
        "for ax_idx, estimator in enumerate([svm, lda, tree]):\n",
        "    LearningCurveDisplay.from_estimator(estimator, X=X_train, y=y_train , ax=ax[ax_idx], score_name = \"roc_auc\")\n",
        "    handles, label = ax[ax_idx].get_legend_handles_labels()\n",
        "    ax[ax_idx].legend(handles[:2], [\"Training Score\", \"Test Score\"])\n",
        "    ax[ax_idx].set_title(f\"Learning Curve for {estimator.__class__.__name__}\")\n",
        "    plt.xlabel(\"AUC-roc\")\n",
        "    plt.ylim(0, 1)"
      ],
      "metadata": {
        "id": "OsSqAoIyoQGV",
        "colab": {
          "base_uri": "https://localhost:8080/",
          "height": 564
        },
        "outputId": "553b51eb-5a58-4d1e-8266-53fb208ee031"
      },
      "execution_count": 35,
      "outputs": [
        {
          "output_type": "display_data",
          "data": {
            "text/plain": [
              "<Figure size 1500x600 with 3 Axes>"
            ],
            "image/png": "[encoded data removed]"
          },
          "metadata": {}
        }
      ]
    },
    {
      "cell_type": "markdown",
      "source": [
        "#### En SVM y LDA es clara la tendencia creciente del AUC en ambos sets: cuanto más grande es el dataset de enternamiento, mayor es la performance.\n"
      ],
      "metadata": {
        "id": "LvT0XjUI9iCz"
      }
    },
    {
      "cell_type": "markdown",
      "source": [
        "### 4.3"
      ],
      "metadata": {
        "id": "N-h4qbyZbWVx"
      }
    },
    {
      "cell_type": "code",
      "source": [
        "rf = RandomForestClassifier(n_estimators=200)\n",
        "\n",
        "k = 5\n",
        "train_acc_scores, \\\n",
        "train_auprc_scores, \\\n",
        "train_aucroc_scores, \\\n",
        "val_acc_scores, \\\n",
        "val_auprc_scores, \\\n",
        "val_aucroc_scores, \\\n",
        "all_y_true, \\\n",
        "all_y_proba = k_fold_training(X_train, y_train, rf, k).values()\n",
        "\n",
        "train_auc = np.mean(train_aucroc_scores)\n",
        "test_auc = np.mean(val_auprc_scores)\n",
        "\n",
        "print('AUC train set:',train_auc)\n",
        "print('AUC test set:',test_auc)"
      ],
      "metadata": {
        "id": "HJJ202PEW0uH",
        "colab": {
          "base_uri": "https://localhost:8080/",
          "height": 0
        },
        "outputId": "39743829-1497-4a0b-9174-5ec2fd16ed18"
      },
      "execution_count": 37,
      "outputs": [
        {
          "output_type": "stream",
          "name": "stdout",
          "text": [
            "AUC train set: 1.0\n",
            "AUC test set: 0.6431509290370407\n"
          ]
        }
      ]
    },
    {
      "cell_type": "code",
      "source": [
        "max_features1 = list(range(1, 20)) + list(range(21, 200, 15))\n",
        "\n",
        "train_scores_random1 = []\n",
        "val_scores_random1 = []\n",
        "\n",
        "for max_feature1 in max_features1:\n",
        "    rf1 = RandomForestClassifier(n_estimators=200,max_features=max_feature1,random_state=42)\n",
        "    resultados1 = k_fold_training(X_train, y_train,rf1,5)\n",
        "    train_auc1 = np.mean(resultados1[\"train_aucroc_scores\"])\n",
        "    val_auc1 = np.mean(resultados1[\"val_aucroc_scores\"])\n",
        "    train_scores_random1.append(train_auc1)\n",
        "    val_scores_random1.append(val_auc1)"
      ],
      "metadata": {
        "id": "RsGduSRS4bfs",
        "collapsed": true
      },
      "execution_count": 38,
      "outputs": []
    },
    {
      "cell_type": "code",
      "source": [
        "plt.figure(figsize=(13,5))\n",
        "plt.plot(max_features1, train_scores_random1, label='AUCROC Train', marker='o')\n",
        "plt.plot(max_features1, val_scores_random1, label='AUCROC Validación', marker='o')\n",
        "plt.ylim(0,1)\n",
        "plt.xlabel('max features')\n",
        "plt.ylabel('AUC ROC')\n",
        "plt.title('Curva de Complejidad - Random Forest')\n",
        "plt.ylim(0, 1)\n",
        "plt.legend()\n",
        "plt.grid()\n",
        "plt.show()"
      ],
      "metadata": {
        "id": "xPFF5W2GuvMd"
      },
      "execution_count": null,
      "outputs": []
    },
    {
      "cell_type": "markdown",
      "source": [
        "Como desarrollamos en el informe, quisimos probar si un \"mal modelo\" (hiperparámetros que sobre o sub ajusten) tendrían impacto en nuestra curva de complejidad, por lo que mediante RandomizedSearch buscamos los mejores parámetros posibles para hacer variar el max_features.\n",
        "\n",
        "\n",
        "**Aclaración**: Por cuestiones de tiempo las siguientes celdas que fueron un experimento nuestro, no llegaron a ser corridas en la versión final. De todas formas se pueden correr y ver los resultados plasmados en el informe."
      ],
      "metadata": {
        "id": "KqI7R-m2CMit"
      }
    },
    {
      "cell_type": "code",
      "source": [
        "# Grid de parámetros válido para Random Forest\n",
        "parameters_grid = {\n",
        "    'n_estimators': [200],\n",
        "    'max_depth': list(range(1, 51)) + [None],\n",
        "    'criterion': ['gini', 'entropy', 'log_loss'],\n",
        "    'min_samples_split': np.arange(2, 101, 5),\n",
        "    'min_samples_leaf': np.arange(1, 21, 5),\n",
        "    'max_features': [None, 'sqrt', 'log2', 0.2, 0.5],\n",
        "    'max_leaf_nodes': np.concatenate([[None], np.arange(2, 101, 5)]),\n",
        "    'min_weight_fraction_leaf': [0.0, 0.01, 0.05],\n",
        "}\n",
        "\n",
        "# Randomized Search con Random Forest\n",
        "forest_random_search = RandomizedSearchCV(\n",
        "    estimator=RandomForestClassifier(random_state=42),\n",
        "    param_distributions=parameters_grid,\n",
        "    n_iter=20,\n",
        "    cv=5,\n",
        "    verbose=1,\n",
        "    random_state=42,\n",
        "    n_jobs=-1,\n",
        "    scoring='roc_auc'\n",
        ")\n",
        "\n",
        "# Entrenamiento\n",
        "forest_random_search.fit(X_train, y_train)\n",
        "\n",
        "# Resultados\n",
        "print(\"Mejores parámetros:\", forest_random_search.best_params_)\n",
        "print(\"Mejor score:\", forest_random_search.best_score_)\n"
      ],
      "metadata": {
        "id": "41FhxkzBO2Gh"
      },
      "execution_count": null,
      "outputs": []
    },
    {
      "cell_type": "code",
      "source": [
        "best_forest_random_search_params = forest_random_search.best_params_.copy()\n",
        "best_forest_random_search_params.pop('max_features')\n",
        "max_features = list(range(1, 20)) + list(range(21, 200, 15))\n",
        "\n",
        "train_scores_random = []\n",
        "val_scores_random = []\n",
        "\n",
        "for max_feature in max_features:\n",
        "    rf = RandomForestClassifier(**best_forest_random_search_params ,max_features=max_feature, random_state=42)\n",
        "    resultados = k_fold_training(X_train, y_train,rf,5)\n",
        "    train_auc = np.mean(resultados[\"train_aucroc_scores\"])\n",
        "    val_auc = np.mean(resultados[\"val_aucroc_scores\"])\n",
        "    train_scores_random.append(train_auc)\n",
        "    val_scores_random.append(val_auc)"
      ],
      "metadata": {
        "id": "i3OVf4uzCZDF"
      },
      "execution_count": null,
      "outputs": []
    },
    {
      "cell_type": "code",
      "source": [
        "plt.figure(figsize=(13,5))\n",
        "plt.plot(max_features, train_scores_random, label='AUCROC Train', marker='o')\n",
        "plt.plot(max_features, val_scores_random, label='AUCROC Validación', marker='o')\n",
        "plt.ylim(0,1)\n",
        "plt.xlabel('Máxima cantidad de features')\n",
        "plt.ylabel('AUC ROC')\n",
        "plt.title('Curva de Complejidad - Random Forest con los mejores parámetros')\n",
        "plt.ylim(0, 1)\n",
        "plt.legend()\n",
        "plt.grid()\n",
        "plt.show()"
      ],
      "metadata": {
        "id": "bJLojPnECgsj"
      },
      "execution_count": null,
      "outputs": []
    },
    {
      "cell_type": "code",
      "source": [
        "plt.figure(figsize=(13,5))\n",
        "plt.plot(max_features, train_scores_random, label='AUCROC Train', marker='o')\n",
        "plt.plot(max_features, val_scores_random, label='AUCROC Validación', marker='o')\n",
        "plt.ylim(0,1)\n",
        "plt.xlabel('Máxima cantidad de features')\n",
        "plt.ylabel('AUC ROC')\n",
        "plt.title('Curva de Complejidad - Random Forest con los mejores parámetros')\n",
        "plt.ylim(0, 1)\n",
        "plt.legend()\n",
        "plt.grid()\n",
        "plt.show()"
      ],
      "metadata": {
        "id": "Al_OvdsRLBSq"
      },
      "execution_count": null,
      "outputs": []
    },
    {
      "cell_type": "markdown",
      "source": [
        "El parámetro `max_features` de `RandomForestClassifier` determina cuántas variables se seleccionan aleatoriamente para evaluar en cada división de los árboles del bosque. Cuanto menor el valor, mayor la diversidad entre árboles; cuanto mayor, más se parece cada árbol a un árbol de decisión tradicional."
      ],
      "metadata": {
        "id": "3kmGWtEdu1kA"
      }
    },
    {
      "cell_type": "code",
      "source": [
        "random_forest = RandomForestClassifier(n_estimators=200, max_features=199, random_state=42)\n",
        "\n",
        "fig, ax = plt.subplots(figsize=(8, 6))\n",
        "\n",
        "LearningCurveDisplay.from_estimator(random_forest, X=X_train, y=y_train, ax=ax, score_name = \"roc_auc\")\n",
        "handles, labels = ax.get_legend_handles_labels()\n",
        "ax.legend(handles[:2], [\"Training Score\", \"Test Score\"])\n",
        "ax.set_title(f\"Learning Curve for {random_forest.__class__.__name__}\")\n",
        "plt.xlabel(\"AUC-roc\")\n",
        "plt.tight_layout()\n",
        "plt.ylim(0, 1.1)\n",
        "plt.show()\n"
      ],
      "metadata": {
        "id": "FGsThQ0M9EPp",
        "colab": {
          "base_uri": "https://localhost:8080/",
          "height": 607
        },
        "outputId": "68bef351-0747-4382-cd6e-6192877d091f"
      },
      "execution_count": 41,
      "outputs": [
        {
          "output_type": "display_data",
          "data": {
            "text/plain": [
              "<Figure size 800x600 with 1 Axes>"
            ],
            "image/png": "[encoded data removed]"
          },
          "metadata": {}
        }
      ]
    },
    {
      "cell_type": "code",
      "source": [
        "random_forest = RandomForestClassifier(n_estimators=200, max_features=8, random_state=42)\n",
        "\n",
        "fig, ax = plt.subplots(figsize=(8, 6))\n",
        "\n",
        "LearningCurveDisplay.from_estimator(random_forest, X=X_train, y=y_train, ax=ax, score_name = \"roc_auc\")\n",
        "handles, labels = ax.get_legend_handles_labels()\n",
        "ax.legend(handles[:2], [\"Training Score\", \"Test Score\"])\n",
        "ax.set_title(f\"Learning Curve for {random_forest.__class__.__name__}\")\n",
        "\n",
        "plt.tight_layout()\n",
        "plt.ylim(0, 1.1)\n",
        "plt.show()\n"
      ],
      "metadata": {
        "colab": {
          "base_uri": "https://localhost:8080/",
          "height": 607
        },
        "id": "_Wu52b53Rk4N",
        "outputId": "6838ea99-9e0c-4f5c-c9a4-7fb7b3128dad"
      },
      "execution_count": 42,
      "outputs": [
        {
          "output_type": "display_data",
          "data": {
            "text/plain": [
              "<Figure size 800x600 with 1 Axes>"
            ],
            "image/png": "[encoded data removed]"
          },
          "metadata": {}
        }
      ]
    },
    {
      "cell_type": "code",
      "source": [
        "fig, ax = plt.subplots(figsize=(8, 6))\n",
        "\n",
        "LearningCurveDisplay.from_estimator(forest_random_search, X=X_train, y=y_train, ax=ax, score_name = \"roc_auc\")\n",
        "handles, labels = ax.get_legend_handles_labels()\n",
        "ax.legend(handles[:2], [\"Training Score\", \"Test Score\"])\n",
        "ax.set_title(f\"Learning Curve for {random_forest.__class__.__name__}\")\n",
        "\n",
        "plt.tight_layout()\n",
        "plt.ylim(0, 1.1)\n",
        "plt.show()"
      ],
      "metadata": {
        "colab": {
          "base_uri": "https://localhost:8080/",
          "height": 0
        },
        "id": "a__cfJuxc_4C",
        "outputId": "1d181c22-bc13-4aa6-f321-4cd253aa9acb"
      },
      "execution_count": null,
      "outputs": [
        {
          "output_type": "stream",
          "name": "stdout",
          "text": [
            "Fitting 5 folds for each of 20 candidates, totalling 100 fits\n",
            "Fitting 5 folds for each of 20 candidates, totalling 100 fits\n",
            "Fitting 5 folds for each of 20 candidates, totalling 100 fits\n",
            "Fitting 5 folds for each of 20 candidates, totalling 100 fits\n"
          ]
        }
      ]
    },
    {
      "cell_type": "code",
      "source": [
        "plt.figure(figsize=(13,5))\n",
        "plt.plot(max_features, train_scores_random, label='AUCROC Train', marker='o')\n",
        "plt.plot(max_features, val_scores_random, label='AUCROC Validación', marker='o')\n",
        "plt.ylim(0,1)\n",
        "plt.xlabel('Máxima cantidad de features')\n",
        "plt.ylabel('AUC ROC')\n",
        "plt.title('Curva de Complejidad - Random Forest con los mejores parámetros')\n",
        "plt.ylim(0, 1)\n",
        "plt.legend()\n",
        "plt.grid()\n",
        "plt.show()"
      ],
      "metadata": {
        "id": "8Qsyq8h-eGrT"
      },
      "execution_count": null,
      "outputs": []
    },
    {
      "cell_type": "code",
      "source": [
        "df=X_train\n",
        "feature_importances = pd.Series(model.feature_importances_, index=df.columns)\n",
        "\n",
        "top_features = feature_importances.sort_values(ascending=False).head(10).index\n",
        "\n",
        "df_top = df[top_features]\n",
        "\n",
        "corr_matrix = df_top.corr()\n",
        "\n",
        "plt.figure(figsize=(10, 8))\n",
        "sns.heatmap(corr_matrix, annot=True, cmap='coolwarm', fmt=\".2f\", square=True)\n",
        "plt.title(\"Matriz de correlación de las 10 variables más importantes\")\n",
        "plt.tight_layout()\n",
        "plt.show()"
      ],
      "metadata": {
        "id": "YARtbADKUzy9"
      },
      "execution_count": null,
      "outputs": []
    },
    {
      "cell_type": "markdown",
      "source": [
        "De yapa estudiamos la matriz de correlación :p"
      ],
      "metadata": {
        "id": "bxB1tMpXO-dV"
      }
    },
    {
      "cell_type": "markdown",
      "metadata": {
        "id": "MmH8FluRIqF4"
      },
      "source": [
        "## Ejercicio 5:\n",
        "### Evaluación de performance\n",
        "\n",
        "- La entrega del trabajo estará acompañada de una evaluación en la cual deberán poner a prueba su mejor modelo y sobre todo, su capacidad para estimar sus resultados.\n",
        "\n",
        "- Su tarea será estimar la performance (AUCROC) que tendrá su mejor modelo en datos de evaluación (X_held_out).\n",
        "\n",
        "- Para ello, deberán predecir las **probabilidades** de las distintas instancias con su modelo, enviarnos dichas probabilidades junto a una estimación con 4 decimales de cuál será el AUCROC resultante y calcularemos el resultado real. Consideraremos que el **mejor modelo será el que se encuentre más cerca del valor real que calcularemos luego de la entrega**.\n",
        "\n",
        "- Recomendamos no perder de vista esta evaluación/competencia durante el desarrollo del TP, sobretodo en el momento de separar los datos en los primeros puntos.\n",
        "\n",
        "- Para que podamos evaluar la performance, junto con la entrega del informe, deberán enviar un archivo con el numero de grupo con dos digitos en formato csv con la columna `output` y el valor obtenido con 4 decimales (se subirá un ejemplo cuando se publiquen los datos de la competencia) y un valor esperado de AUCROC: `GG_y_pred_held_out_AUCROC`.\n",
        "\n",
        "    - Ej.: el grupo tres cree que obtuvo un valor de 0.7321 de AUCROC deberá submitear un archivo llamado: `03_y_pred_held_out_7321.csv`.\n",
        "\n",
        "- Los datos podrán encontrarlos en este [link](https://github.com/aprendizaje-automatico-dc-uba-ar/material/tree/main/tp/01_aprendizaje_supervisado/datos).\n",
        "\n",
        "- Las decisiones de este punto pueden desarrollarse hasta en una carilla, aunque con media debería alcanzar.\n"
      ]
    },
    {
      "cell_type": "code",
      "source": [
        "X_held_out = pd.read_csv('X_held_out.csv')\n",
        "\n",
        "y_pred_proba = svm_random_search.predict_proba(X_held_out.values)[:, 1]\n",
        "\n",
        "output_df = pd.DataFrame({\n",
        "    'output': y_pred_proba\n",
        "})\n",
        "\n",
        "grupo = \"02\"\n",
        "y_test_proba = svm_random_search.predict_proba(X_test)[:, 1]\n",
        "aucroc_estimado = roc_auc_score(y_test, y_test_proba)\n",
        "\n",
        "nombre_archivo = f\"{grupo}_y_pred_held_out_{str(round(aucroc_estimado, 4)).replace('.', '')[1:]}.csv\"\n",
        "\n",
        "output_df.to_csv(nombre_archivo, index=False)\n",
        "print(f\"La performance de AUC obtenida es: {round(aucroc_estimado, 4)}\")\n",
        "print(f\"Archivo {nombre_archivo} generado correctamente.\")"
      ],
      "metadata": {
        "id": "jXo3rqBRR_XJ",
        "colab": {
          "base_uri": "https://localhost:8080/",
          "height": 0
        },
        "outputId": "877a8280-4cd3-4d99-c968-a14c2f792345"
      },
      "execution_count": 25,
      "outputs": [
        {
          "output_type": "stream",
          "name": "stdout",
          "text": [
            "0.9267857142857143\n",
            "Archivo 02_y_pred_held_out_9268.csv generado correctamente.\n"
          ]
        },
        {
          "output_type": "stream",
          "name": "stderr",
          "text": [
            "/usr/local/lib/python3.11/dist-packages/sklearn/utils/validation.py:2739: UserWarning: X does not have valid feature names, but SVC was fitted with feature names\n",
            "  warnings.warn(\n"
          ]
        }
      ]
    },
    {
      "cell_type": "markdown",
      "metadata": {
        "id": "ruTYtC1tIqF4"
      },
      "source": [
        "## Ejercicio 6:\n",
        "### Conclusiones\n",
        "\n",
        "Escribir como mínimo en un párrafo, una conclusión del trabajo realizado, incluyendo problemas encontrados y\n",
        "aspectos no incluidos en el enunciado que hayan sido abordadas durante el desarrollo."
      ]
    },
    {
      "cell_type": "markdown",
      "metadata": {
        "id": "Rfme9mvGIqF4"
      },
      "source": [
        "---\n",
        "## Entregables\n",
        "- Contarán con un esqueleto en formato Jupyter Notebook en donde podrán intercalar celdas para reportar y responder a los ítems de cada ejercicio.\n",
        "- Los entregrables serán\n",
        "    - Un informe en formato .pdf (**digital**) que responda a los ítems de este enunciado respetando la cantidad de espacio máximo por cada ítem. Nombrarlo siguiendo el formato `GG_Nombre_de_grupo`\n",
        "    - Adjuntar el notebook final en formatos .pdf e .ipynb. Es necesario que los resultados puedan reproducirse al ejecutar todas las celdas en orden (verificarlo haceindo: Kernel -> Restart and Run All).\n",
        "    - Las predicciones del *held out* del punto 5 en formato csv.\n",
        "- Habŕa una entrega intermedia obligatoria que deberán hacer antes del 17 de abril de 2025 a las 17:00hs. Para esta entrega deberán enviar el código que resuelve los primeros 3 ejercicios.\n",
        "- La **fecha** y **hora límite** de entrega está determinada en el campus de la materia.\n",
        "- El trabajo deberá elaborarse en grupos de 5 personas.\n",
        "- Se podrán pedir pruebas de integridad y autoría; es decir, verificar que la salida solicitada es fruto del modelo presentado y que el modelo fue construido según lo requerido en este enunciado.\n",
        "- La evaluación será grupal y se basará en la calidad del informe (presentación, claridad, prolijidad); la originalidad, practicidad y coherencia técnica de la solución; la corrección y solidez de las pruebas realizadas.\n"
      ]
    },
    {
      "cell_type": "markdown",
      "metadata": {
        "id": "8pubeQY-IqF5"
      },
      "source": [
        "### Importante: sobre el uso de ChatGPT y grandes modelos de lenguaje\n",
        "\n",
        "En este trabajo no estará explícitamente prohibido pero si fuertemente desaconsejado, consideramos a este trabajo práctico una importante herramienta de aprendizaje donde el uso de GPT puede ser perjudicial. En caso de usarlo se pide aclararlo en el informe y especificar cómo y en donde se utilizó. Así como expresar su opinión sobre la respuesta generada por el modelo pudiendo estar a favor o en contra de lo propuesto por este. Pueden adjuntar el link a la conversación con el modelo."
      ]
    },
    {
      "cell_type": "markdown",
      "metadata": {
        "id": "xBI7CDdwIqF5"
      },
      "source": [
        "**Nota**: Agradecemos a [Martín García Sola](https://ar.linkedin.com/in/martin-e-garcia-sola) por la asistencia biológica en la confección de este Trabajo Práctico."
      ]
    }
  ],
  "metadata": {
    "kernelspec": {
      "display_name": "Python 3 (ipykernel)",
      "language": "python",
      "name": "python3"
    },
    "language_info": {
      "codemirror_mode": {
        "name": "ipython",
        "version": 3
      },
      "file_extension": ".py",
      "mimetype": "text/x-python",
      "name": "python",
      "nbconvert_exporter": "python",
      "pygments_lexer": "ipython3",
      "version": "3.12.1"
    },
    "colab": {
      "provenance": [],
      "collapsed_sections": [
        "PZEpDsU8SaGj",
        "MoQV24XrTxaa",
        "KzOS4OBgpQya"
      ]
    }
  },
  "nbformat": 4,
  "nbformat_minor": 0
}